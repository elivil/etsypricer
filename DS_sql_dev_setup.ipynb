{
 "cells": [
  {
   "cell_type": "markdown",
   "metadata": {
    "colab_type": "text",
    "id": "jSGiOJ2aksGI"
   },
   "source": [
    "# Dev Setups: Connecting Python and SQL\n",
    "\n",
    "The purpose of this IPython notebook is to demonstrate the usefulness of connecting python to a relational database by using a python toolkit called SQLAlchemy. This tutorial follows the previous document, *** Testing Python and Data Science basic stack ***\n",
    "\n",
    "**This notebook is for Mac OS and Windows specific instructions. See `DS_sql_dev_setup_linux.ipynb` for Linux.**"
   ]
  },
  {
   "cell_type": "markdown",
   "metadata": {
    "colab_type": "text",
    "id": "TxyG0sWsksGJ"
   },
   "source": [
    "### First off, what is a relational database?\n",
    "\n",
    "Basically, it is a way to store information such that information can be retrieved from it.\n",
    "\n",
    "MySQL and PostgreSQL are examples of relational databases.  For the purposes of an Insight project, you can use either one.\n",
    "\n",
    "Why would you use a relational database instead of a csv or two?\n",
    "\n",
    "**A few reasons:**\n",
    "\n",
    "- They scale easily\n",
    "\n",
    "-  They are easy to query\n",
    "\n",
    "- It’s possible to do transactions in those cases where you need to write to a database, not just read from it\n",
    "\n",
    "- Everyone in industry uses them, so you should get familiar with them, too.\n",
    "\n",
    "***What does a relational database look like? ***\n",
    "\n",
    "We can take a look.  First we need to set up a few things. The first thing we want to do is to get a PostgreSQL server up and running.  \n",
    "\n",
    "\n"
   ]
  },
  {
   "cell_type": "markdown",
   "metadata": {
    "colab_type": "text",
    "id": "kk9XOH7KksGK"
   },
   "source": [
    "## Postgres Installation\n",
    "\n",
    "**Mac OS installation:**\n",
    "Go to http://postgresapp.com/ and follow the three steps listed in the Quick Installation Guide. \n",
    "\n",
    "**Windows OS installation:** \n",
    "Go to https://www.postgresql.org/download/windows/ to download the installer."
   ]
  },
  {
   "cell_type": "markdown",
   "metadata": {
    "colab_type": "text",
    "id": "aiHumV95ksGK"
   },
   "source": [
    "We'll come back to PostgreSQL in a moment.  First, we'll set up SQLAlchemy.  Go ahead and try to implement the following."
   ]
  },
  {
   "cell_type": "markdown",
   "metadata": {
    "colab_type": "text",
    "id": "6NUUUjopksGL"
   },
   "source": [
    "<a id='python'></a>\n",
    "## Install and load python packages"
   ]
  },
  {
   "cell_type": "markdown",
   "metadata": {
    "colab_type": "text",
    "id": "6OAwr3eBksGN"
   },
   "source": [
    "Inside your conda environment, install the necessary packages for python to talk to a sql database.\n",
    "\n",
    "    conda install sqlalchemy psycopg2  \n",
    "    pip install sqlalchemy_utils"
   ]
  },
  {
   "cell_type": "code",
   "execution_count": 1,
   "metadata": {
    "colab": {
     "autoexec": {
      "startup": false,
      "wait_interval": 0
     },
     "base_uri": "https://localhost:8080/",
     "height": 351
    },
    "colab_type": "code",
    "executionInfo": {
     "elapsed": 2687,
     "status": "error",
     "timestamp": 1527862142062,
     "user": {
      "displayName": "Sara Rasmussen",
      "photoUrl": "//lh4.googleusercontent.com/-LtO9lzWleSs/AAAAAAAAAAI/AAAAAAAAM2Y/BZMmlvpzHsA/s50-c-k-no/photo.jpg",
      "userId": "104187312336895847104"
     },
     "user_tz": 240
    },
    "id": "57CVuCgpksGN",
    "outputId": "402ccc33-0a4b-4126-9e5c-4f79da0c6cfe"
   },
   "outputs": [
    {
     "ename": "ModuleNotFoundError",
     "evalue": "ignored",
     "output_type": "error",
     "traceback": [
      "\u001b[0;31m---------------------------------------------------------------------------\u001b[0m",
      "\u001b[0;31mModuleNotFoundError\u001b[0m                       Traceback (most recent call last)",
      "\u001b[0;32m<ipython-input-1-134175aefd7b>\u001b[0m in \u001b[0;36m<module>\u001b[0;34m()\u001b[0m\n\u001b[0;32m----> 1\u001b[0;31m \u001b[0;32mfrom\u001b[0m \u001b[0msqlalchemy\u001b[0m \u001b[0;32mimport\u001b[0m \u001b[0mcreate_engine\u001b[0m\u001b[0;34m\u001b[0m\u001b[0m\n\u001b[0m\u001b[1;32m      2\u001b[0m \u001b[0;32mfrom\u001b[0m \u001b[0msqlalchemy_utils\u001b[0m \u001b[0;32mimport\u001b[0m \u001b[0mdatabase_exists\u001b[0m\u001b[0;34m,\u001b[0m \u001b[0mcreate_database\u001b[0m\u001b[0;34m\u001b[0m\u001b[0m\n\u001b[1;32m      3\u001b[0m \u001b[0;32mimport\u001b[0m \u001b[0mpsycopg2\u001b[0m\u001b[0;34m\u001b[0m\u001b[0m\n\u001b[1;32m      4\u001b[0m \u001b[0;32mimport\u001b[0m \u001b[0mpandas\u001b[0m \u001b[0;32mas\u001b[0m \u001b[0mpd\u001b[0m\u001b[0;34m\u001b[0m\u001b[0m\n",
      "\u001b[0;31mModuleNotFoundError\u001b[0m: No module named 'sqlalchemy'",
      "",
      "\u001b[0;31m---------------------------------------------------------------------------\u001b[0;32m\nNOTE: If your import is failing due to a missing package, you can\nmanually install dependencies using either !pip or !apt.\n\nTo view examples of installing some common dependencies, click the\n\"Open Examples\" button below.\n\u001b[0;31m---------------------------------------------------------------------------\u001b[0m\n"
     ]
    }
   ],
   "source": [
    "from sqlalchemy import create_engine\n",
    "from sqlalchemy_utils import database_exists, create_database\n",
    "import psycopg2\n",
    "import pandas as pd"
   ]
  },
  {
   "cell_type": "markdown",
   "metadata": {
    "colab_type": "text",
    "id": "OTjXfgnuksGS"
   },
   "source": [
    "If you have trouble installing psycopg2 and get the error \"pg_config executable not found\", try adding \"/Applications/Postgres.app/Contents/Versions/9.6/bin\" to your PATH by typing the following in your terminal (you may have to check your version number):\n",
    "\n",
    "    export PATH=\"/Applications/Postgres.app/Contents/Versions/9.6/bin:$PATH\"\n",
    "\n",
    "**Then try installing again:**\n",
    "\n",
    "    conda install psycopg2\n"
   ]
  },
  {
   "cell_type": "markdown",
   "metadata": {
    "colab_type": "text",
    "id": "7VZr4rtpksGS"
   },
   "source": [
    "## Start your postgresql server\n",
    "\n",
    "**There are multiple ways to launch a postgres server:**\n",
    "\n",
    "1) Launching Postres.app from LaunchPad will automatically start a server.  In Mac OS, you should see an elephant icon in the upper right corner.\n",
    "\n",
    "2) Launch from the terminal with the following command (CHANGE USER NAME):<br>\n",
    "\n",
    "    postgres -D /Users/chris/Library/Application\\ Support/Postgres/var-9.6\n",
    "    \n",
    "3) Have launchd start postgresql at login:<br>\n",
    "\n",
    "    ln -sfv /usr/local/opt/postgresql/*.plist ~/Library/LaunchAgents\n",
    "\n",
    "Then to load postgresql now: <br>\n",
    "\n",
    "    launchctl load ~/Library/LaunchAgents/homebrew.mxcl.postgresql.plist"
   ]
  },
  {
   "cell_type": "markdown",
   "metadata": {
    "colab_type": "text",
    "id": "yM0xmov2ksGT"
   },
   "source": [
    "## Create a database"
   ]
  },
  {
   "cell_type": "code",
   "execution_count": 0,
   "metadata": {
    "colab": {
     "autoexec": {
      "startup": false,
      "wait_interval": 0
     }
    },
    "colab_type": "code",
    "id": "5ZanvF-cksGU"
   },
   "outputs": [],
   "source": [
    "# Define a database name (we're using a dataset on births, so we'll call it birth_db)\n",
    "# Set your postgres username\n",
    "dbname = 'birth_db'\n",
    "username = 'chris' # change this to your username"
   ]
  },
  {
   "cell_type": "code",
   "execution_count": 0,
   "metadata": {
    "colab": {
     "autoexec": {
      "startup": false,
      "wait_interval": 0
     }
    },
    "colab_type": "code",
    "id": "OpqARfOhksGY"
   },
   "outputs": [],
   "source": [
    "## 'engine' is a connection to a database\n",
    "## Here, we're using postgres, but sqlalchemy can connect to other things too.\n",
    "engine = create_engine('postgres://%s@localhost/%s'%(username,dbname))\n",
    "print(engine.url)"
   ]
  },
  {
   "cell_type": "code",
   "execution_count": 0,
   "metadata": {
    "colab": {
     "autoexec": {
      "startup": false,
      "wait_interval": 0
     }
    },
    "colab_type": "code",
    "id": "SEadR7NvksGa"
   },
   "outputs": [],
   "source": [
    "## create a database (if it doesn't exist)\n",
    "if not database_exists(engine.url):\n",
    "    create_database(engine.url)\n",
    "print(database_exists(engine.url))"
   ]
  },
  {
   "cell_type": "code",
   "execution_count": 0,
   "metadata": {
    "colab": {
     "autoexec": {
      "startup": false,
      "wait_interval": 0
     }
    },
    "colab_type": "code",
    "id": "fcOacSdMksGd"
   },
   "outputs": [],
   "source": [
    "# read a database from CSV and load it into a pandas dataframe\n",
    "birth_data = pd.read_csv('births2012_downsampled.csv', index_col=0)"
   ]
  },
  {
   "cell_type": "markdown",
   "metadata": {
    "colab_type": "text",
    "id": "BfS6QMmlksGe"
   },
   "source": [
    "Make sure to download `births2012_downsampled.csv` and put it in your current directory or change the path so that it points to the file location."
   ]
  },
  {
   "cell_type": "code",
   "execution_count": 0,
   "metadata": {
    "colab": {
     "autoexec": {
      "startup": false,
      "wait_interval": 0
     }
    },
    "colab_type": "code",
    "id": "vahOBGeRksGf"
   },
   "outputs": [],
   "source": [
    "## insert data into database from Python (proof of concept - this won't be useful for big data, of course)\n",
    "birth_data.to_sql('birth_data_table', engine, if_exists='replace')"
   ]
  },
  {
   "cell_type": "markdown",
   "metadata": {
    "colab_type": "text",
    "id": "PNg405eQksGi"
   },
   "source": [
    "The above line (to_sql) is doing a lot of heavy lifting.  It's reading a dataframe, it's creating a table, and adding the data to the table.  So ** SQLAlchemy is quite useful! **"
   ]
  },
  {
   "cell_type": "markdown",
   "metadata": {
    "colab_type": "text",
    "id": "eBtYd5rZksGl"
   },
   "source": [
    "## Working with PostgresSQL without Python\n",
    "\n",
    "**Open up the PostgreSQL app, click on the \"Open psql\" button in the bottom right corner, ** <br>\n",
    "\n",
    "or alternatively type <br>\n",
    "\n",
    "    psql -h localhost\n",
    "\n",
    "into the command line. <br>\n",
    "<div class=\"alert alert-info\">\n",
    "You may need to add psql to PATH:<br>\n",
    "**Edit your .bash_profile in your home directory. Since you already installed Anaconda, it should look something like:**<br>\n",
    "`export PATH=\"/Users/YOUR_USER_NAME/anaconda/bin:$PATH\"`<br>\n",
    "\n",
    "**Right below the line added by anaconda you can add this line:** <br>\n",
    "`export PATH=\"/Applications/Postgres.app/Contents/Versions/latest/bin:$PATH\"`<br>\n",
    "\n",
    "**Save and reload the bash profile**<br>\n",
    "`$ source .bash_profile`<br>\n",
    "</div>"
   ]
  },
  {
   "cell_type": "markdown",
   "metadata": {
    "colab_type": "text",
    "id": "7M_Qy8cBksGm"
   },
   "source": [
    "**Connect to the \"birth_db\" database we created**\n",
    "\n",
    "    \\c birth_db\n",
    "\n",
    "**You should see something like the following**\n",
    "\n",
    "`You are now connected to database \"birth_db\" as user \"chris\".`\n",
    "\n",
    "\n",
    "**Then try the following query:**\n",
    "\n",
    "    SELECT * FROM birth_data_table;\n",
    "    \n",
    "Note that the semi-colon indicates an end-of-statement."
   ]
  },
  {
   "cell_type": "markdown",
   "metadata": {
    "colab_type": "text",
    "id": "4bt9xb9QksGn"
   },
   "source": [
    "### You can see the table we created!  But it's kinda ugly and hard to read."
   ]
  },
  {
   "cell_type": "markdown",
   "metadata": {
    "colab_type": "text",
    "id": "Dd_lrExpksGo"
   },
   "source": [
    "Try a few other sample queries.  Before you type in each one, ask yourself what you think the output will look like:\n",
    "\n",
    "`SELECT * FROM birth_data_table WHERE infant_sex='M';`\n",
    "\n",
    "`SELECT COUNT(infant_sex) FROM birth_data_table WHERE infant_sex='M';`\n",
    "\n",
    "`SELECT COUNT(gestation_weeks), infant_sex FROM birth_data_table WHERE infant_sex = 'M' GROUP BY gestation_weeks, infant_sex;`\n",
    "\n",
    "`SELECT gestation_weeks, COUNT(gestation_weeks) FROM birth_data_table WHERE infant_sex = 'M' GROUP BY gestation_weeks;`\n",
    "\n",
    "All the above queries run, but they are difficult to visually inspect in the Postgres terminal."
   ]
  },
  {
   "cell_type": "markdown",
   "metadata": {
    "colab_type": "text",
    "id": "sNgX4XMAksGp"
   },
   "source": [
    "## Working with PostgreSQL in Python"
   ]
  },
  {
   "cell_type": "code",
   "execution_count": 0,
   "metadata": {
    "colab": {
     "autoexec": {
      "startup": false,
      "wait_interval": 0
     }
    },
    "colab_type": "code",
    "id": "oHFEw9lHksGq"
   },
   "outputs": [],
   "source": [
    "# Connect to make queries using psycopg2\n",
    "con = None\n",
    "con = psycopg2.connect(database = dbname, user = username)\n",
    "\n",
    "# query:\n",
    "sql_query = \"\"\"\n",
    "SELECT * FROM birth_data_table WHERE delivery_method='Cesarean';\n",
    "\"\"\"\n",
    "birth_data_from_sql = pd.read_sql_query(sql_query,con)\n",
    "birth_data_from_sql.head()"
   ]
  },
  {
   "cell_type": "markdown",
   "metadata": {
    "colab_type": "text",
    "id": "UYYvJvKnksGt"
   },
   "source": [
    "Once the data has been pulled into python, we can leverage pandas methods to work with the data."
   ]
  },
  {
   "cell_type": "code",
   "execution_count": 0,
   "metadata": {
    "colab": {
     "autoexec": {
      "startup": false,
      "wait_interval": 0
     }
    },
    "colab_type": "code",
    "id": "AhHAqPPOksGu"
   },
   "outputs": [],
   "source": [
    "%matplotlib inline\n",
    "birth_data_from_sql.hist(column='birth_weight');"
   ]
  },
  {
   "cell_type": "markdown",
   "metadata": {
    "colab_type": "text",
    "id": "4ozYzaipksGx"
   },
   "source": [
    "### Is reading from a SQL database faster than from a Pandas dataframe?  Probably not for the amount of data you can fit on your machine."
   ]
  },
  {
   "cell_type": "code",
   "execution_count": 0,
   "metadata": {
    "colab": {
     "autoexec": {
      "startup": false,
      "wait_interval": 0
     }
    },
    "colab_type": "code",
    "id": "XtRbL3NSksGy"
   },
   "outputs": [],
   "source": [
    "def get_data(sql_query, con):\n",
    "    data = pd.read_sql_query(sql_query, con)\n",
    "    return data\n",
    "\n",
    "%timeit get_data(sql_query, con)\n",
    "\n",
    "birth_data_from_sql = get_data(sql_query, con)\n",
    "birth_data_from_sql.head()"
   ]
  },
  {
   "cell_type": "code",
   "execution_count": 0,
   "metadata": {
    "colab": {
     "autoexec": {
      "startup": false,
      "wait_interval": 0
     }
    },
    "colab_type": "code",
    "id": "Mja5gupOksG4"
   },
   "outputs": [],
   "source": [
    "def get_pandas_data(df, col, value):\n",
    "    sub_df = df.loc[(df[col] == value)]\n",
    "    return sub_df\n",
    "\n",
    "%timeit get_pandas_data(birth_data, 'delivery_method', 'Cesarean')\n",
    "\n",
    "birth_data_out = get_pandas_data(birth_data, 'delivery_method', 'Cesarean')\n",
    "birth_data_out.head()"
   ]
  },
  {
   "cell_type": "markdown",
   "metadata": {
    "colab_type": "text",
    "id": "nbBuW9VsksG7"
   },
   "source": [
    "This should have given you a quick taste of how to use SQLALchemy, as well as how to run a few SQL queries both at the command line and in python.  You can see that `pandas` is actually a quite a bit faster than PostgreSQL here. This is because we're working with quite a small database (2716 rows × 37 columns), and there is an overhead of time it takes to communicate between python and PostGreSQL.  But as your database gets bigger (and certainly when it's too large to store in memory), working with relational databases becomes a necessity."
   ]
  }
 ],
 "metadata": {
  "colab": {
   "default_view": {},
   "name": "DS_sql_dev_setup.ipynb",
   "provenance": [],
   "version": "0.3.2",
   "views": {}
  },
  "kernelspec": {
   "display_name": "Python 3",
   "language": "python",
   "name": "python3"
  },
  "language_info": {
   "codemirror_mode": {
    "name": "ipython",
    "version": 3
   },
   "file_extension": ".py",
   "mimetype": "text/x-python",
   "name": "python",
   "nbconvert_exporter": "python",
   "pygments_lexer": "ipython3",
   "version": "3.6.8"
  }
 },
 "nbformat": 4,
 "nbformat_minor": 1
}
