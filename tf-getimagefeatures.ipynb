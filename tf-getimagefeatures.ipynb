{
 "cells": [
  {
   "cell_type": "code",
   "execution_count": 1,
   "metadata": {},
   "outputs": [
    {
     "name": "stdout",
     "output_type": "stream",
     "text": [
      "1.12.0\n",
      "2.1.6-tf\n"
     ]
    }
   ],
   "source": [
    "import tensorflow as tf\n",
    "\n",
    "from tensorflow.keras import layers\n",
    "\n",
    "print(tf.VERSION)\n",
    "print(tf.keras.__version__)\n"
   ]
  },
  {
   "cell_type": "code",
   "execution_count": 2,
   "metadata": {},
   "outputs": [],
   "source": [
    "from tensorflow.keras.applications import mobilenet_v2\n",
    "from tensorflow.keras.preprocessing import image\n",
    "from tensorflow.keras.applications.mobilenet_v2 import preprocess_input\n",
    "import numpy as np\n",
    "\n",
    "# define the CNN network\n",
    "# Here we are using mobilenet_v2 and initialising it\n",
    "# with pretrained imagenet weights\n",
    "model = mobilenet_v2.MobileNetV2(input_shape=(224,224,3),weights='imagenet',include_top=False,pooling='avg')"
   ]
  },
  {
   "cell_type": "code",
   "execution_count": 3,
   "metadata": {},
   "outputs": [],
   "source": [
    "import pandas as pd\n",
    "df_clean = pd.read_json('cleandf.json')"
   ]
  },
  {
   "cell_type": "code",
   "execution_count": 4,
   "metadata": {},
   "outputs": [
    {
     "data": {
      "text/html": [
       "<div>\n",
       "<style scoped>\n",
       "    .dataframe tbody tr th:only-of-type {\n",
       "        vertical-align: middle;\n",
       "    }\n",
       "\n",
       "    .dataframe tbody tr th {\n",
       "        vertical-align: top;\n",
       "    }\n",
       "\n",
       "    .dataframe thead th {\n",
       "        text-align: right;\n",
       "    }\n",
       "</style>\n",
       "<table border=\"1\" class=\"dataframe\">\n",
       "  <thead>\n",
       "    <tr style=\"text-align: right;\">\n",
       "      <th></th>\n",
       "      <th>cur</th>\n",
       "      <th>description</th>\n",
       "      <th>favorites</th>\n",
       "      <th>image_urls</th>\n",
       "      <th>images</th>\n",
       "      <th>overview</th>\n",
       "      <th>price</th>\n",
       "      <th>script</th>\n",
       "      <th>title</th>\n",
       "      <th>rating_count</th>\n",
       "      <th>materials</th>\n",
       "      <th>gold</th>\n",
       "      <th>silver</th>\n",
       "      <th>diamond</th>\n",
       "      <th>brass</th>\n",
       "      <th>vintage</th>\n",
       "      <th>year</th>\n",
       "      <th>handmade</th>\n",
       "      <th>desc</th>\n",
       "      <th>adesc</th>\n",
       "    </tr>\n",
       "  </thead>\n",
       "  <tbody>\n",
       "    <tr>\n",
       "      <th>0</th>\n",
       "      <td>USD</td>\n",
       "      <td>24 weightgpc 735 grams width links 21mm 20 inc...</td>\n",
       "      <td>3737.0</td>\n",
       "      <td>[https://i.etsystatic.com/9408646/r/il/89302d/...</td>\n",
       "      <td>[{'url': 'https://i.etsystatic.com/9408646/r/i...</td>\n",
       "      <td>[\\n    Handmade item\\n, \\n    Materials: Solid...</td>\n",
       "      <td>15.00</td>\n",
       "      <td>[\\n    {\\n    \"@type\": \"Product\",\\n    \"@conte...</td>\n",
       "      <td>Sterling silver chain Necklace, Mens chain, Cu...</td>\n",
       "      <td>573.0</td>\n",
       "      <td>solid 925 sterling silver italian chain if wan...</td>\n",
       "      <td>0.0</td>\n",
       "      <td>1.0</td>\n",
       "      <td>0.0</td>\n",
       "      <td>0.0</td>\n",
       "      <td>0</td>\n",
       "      <td>NaN</td>\n",
       "      <td>1</td>\n",
       "      <td>24 735 links 21mm 20 1300 links 395mm figaro 1...</td>\n",
       "      <td>links links figaro browse shop links cable cha...</td>\n",
       "    </tr>\n",
       "    <tr>\n",
       "      <th>1</th>\n",
       "      <td>USD</td>\n",
       "      <td>the package is sent via international register...</td>\n",
       "      <td>248.0</td>\n",
       "      <td>[https://i.etsystatic.com/7353734/r/il/d16bb4/...</td>\n",
       "      <td>[{'url': 'https://i.etsystatic.com/7353734/r/i...</td>\n",
       "      <td>[\\n    Handmade item\\n, \\n    Material: solid ...</td>\n",
       "      <td>26.00</td>\n",
       "      <td>[\\n    {\\n    \"@type\": \"Product\",\\n    \"@conte...</td>\n",
       "      <td>Name necklace. Silver name necklace. Personali...</td>\n",
       "      <td>464.0</td>\n",
       "      <td>solid sterling silver</td>\n",
       "      <td>0.0</td>\n",
       "      <td>1.0</td>\n",
       "      <td>0.0</td>\n",
       "      <td>0.0</td>\n",
       "      <td>0</td>\n",
       "      <td>NaN</td>\n",
       "      <td>1</td>\n",
       "      <td>package sent via international registered air ...</td>\n",
       "      <td>package sent via international registered air ...</td>\n",
       "    </tr>\n",
       "    <tr>\n",
       "      <th>10</th>\n",
       "      <td>USD</td>\n",
       "      <td>example james 6 number is optional and can be ...</td>\n",
       "      <td>144.0</td>\n",
       "      <td>[https://i.etsystatic.com/6903082/r/il/e6e6d0/...</td>\n",
       "      <td>[{'url': 'https://i.etsystatic.com/6903082/r/i...</td>\n",
       "      <td>[\\n    Handmade item\\n, \\n    Can be personali...</td>\n",
       "      <td>57.99</td>\n",
       "      <td>[\\n    {\\n    \"@type\": \"Product\",\\n    \"@conte...</td>\n",
       "      <td>Volleyball Sport Charm 1.25\" Personalized with...</td>\n",
       "      <td>1729.0</td>\n",
       "      <td>sterling silver silver rolo chain</td>\n",
       "      <td>0.0</td>\n",
       "      <td>1.0</td>\n",
       "      <td>0.0</td>\n",
       "      <td>0.0</td>\n",
       "      <td>0</td>\n",
       "      <td>NaN</td>\n",
       "      <td>1</td>\n",
       "      <td>example james 6 number optional 2 digits perso...</td>\n",
       "      <td>example james number optional digits personali...</td>\n",
       "    </tr>\n",
       "    <tr>\n",
       "      <th>100</th>\n",
       "      <td>USD</td>\n",
       "      <td>this gemstone necklace features a gorgeous fac...</td>\n",
       "      <td>28.0</td>\n",
       "      <td>[https://i.etsystatic.com/13865545/r/il/16ab85...</td>\n",
       "      <td>[{'url': 'https://i.etsystatic.com/13865545/r/...</td>\n",
       "      <td>[\\n    Handmade item\\n, \\n    Necklace length:...</td>\n",
       "      <td>67.03</td>\n",
       "      <td>[\\n    {\\n    \"@type\": \"Product\",\\n    \"@conte...</td>\n",
       "      <td>Rainbow Moonstone Necklace Moonstone Pendant N...</td>\n",
       "      <td>242.0</td>\n",
       "      <td>silver stone</td>\n",
       "      <td>0.0</td>\n",
       "      <td>1.0</td>\n",
       "      <td>0.0</td>\n",
       "      <td>0.0</td>\n",
       "      <td>0</td>\n",
       "      <td>NaN</td>\n",
       "      <td>1</td>\n",
       "      <td>gemstone necklace features gorgeous faceted dr...</td>\n",
       "      <td>gemstone necklace features gorgeous faceted dr...</td>\n",
       "    </tr>\n",
       "    <tr>\n",
       "      <th>1000</th>\n",
       "      <td>USD</td>\n",
       "      <td>precious and semi-precious gemstones have been...</td>\n",
       "      <td>3495.0</td>\n",
       "      <td>[https://i.etsystatic.com/9859922/r/il/9d1001/...</td>\n",
       "      <td>[{'url': 'https://i.etsystatic.com/9859922/r/i...</td>\n",
       "      <td>[\\n    Handmade item\\n, \\n    Materials: love,...</td>\n",
       "      <td>13.00</td>\n",
       "      <td>[\\n    {\\n    \"@type\": \"Product\",\\n    \"@conte...</td>\n",
       "      <td>Malachite Heart - malachite stone - healing cr...</td>\n",
       "      <td>18235.0</td>\n",
       "      <td>love light positive energy malachite malachite...</td>\n",
       "      <td>0.0</td>\n",
       "      <td>0.0</td>\n",
       "      <td>0.0</td>\n",
       "      <td>0.0</td>\n",
       "      <td>0</td>\n",
       "      <td>NaN</td>\n",
       "      <td>1</td>\n",
       "      <td>precious semi-precious gemstones used since re...</td>\n",
       "      <td>precious semi-precious gemstones used since re...</td>\n",
       "    </tr>\n",
       "  </tbody>\n",
       "</table>\n",
       "</div>"
      ],
      "text/plain": [
       "      cur                                        description  favorites  \\\n",
       "0     USD  24 weightgpc 735 grams width links 21mm 20 inc...     3737.0   \n",
       "1     USD  the package is sent via international register...      248.0   \n",
       "10    USD  example james 6 number is optional and can be ...      144.0   \n",
       "100   USD  this gemstone necklace features a gorgeous fac...       28.0   \n",
       "1000  USD  precious and semi-precious gemstones have been...     3495.0   \n",
       "\n",
       "                                             image_urls  \\\n",
       "0     [https://i.etsystatic.com/9408646/r/il/89302d/...   \n",
       "1     [https://i.etsystatic.com/7353734/r/il/d16bb4/...   \n",
       "10    [https://i.etsystatic.com/6903082/r/il/e6e6d0/...   \n",
       "100   [https://i.etsystatic.com/13865545/r/il/16ab85...   \n",
       "1000  [https://i.etsystatic.com/9859922/r/il/9d1001/...   \n",
       "\n",
       "                                                 images  \\\n",
       "0     [{'url': 'https://i.etsystatic.com/9408646/r/i...   \n",
       "1     [{'url': 'https://i.etsystatic.com/7353734/r/i...   \n",
       "10    [{'url': 'https://i.etsystatic.com/6903082/r/i...   \n",
       "100   [{'url': 'https://i.etsystatic.com/13865545/r/...   \n",
       "1000  [{'url': 'https://i.etsystatic.com/9859922/r/i...   \n",
       "\n",
       "                                               overview  price  \\\n",
       "0     [\\n    Handmade item\\n, \\n    Materials: Solid...  15.00   \n",
       "1     [\\n    Handmade item\\n, \\n    Material: solid ...  26.00   \n",
       "10    [\\n    Handmade item\\n, \\n    Can be personali...  57.99   \n",
       "100   [\\n    Handmade item\\n, \\n    Necklace length:...  67.03   \n",
       "1000  [\\n    Handmade item\\n, \\n    Materials: love,...  13.00   \n",
       "\n",
       "                                                 script  \\\n",
       "0     [\\n    {\\n    \"@type\": \"Product\",\\n    \"@conte...   \n",
       "1     [\\n    {\\n    \"@type\": \"Product\",\\n    \"@conte...   \n",
       "10    [\\n    {\\n    \"@type\": \"Product\",\\n    \"@conte...   \n",
       "100   [\\n    {\\n    \"@type\": \"Product\",\\n    \"@conte...   \n",
       "1000  [\\n    {\\n    \"@type\": \"Product\",\\n    \"@conte...   \n",
       "\n",
       "                                                  title  rating_count  \\\n",
       "0     Sterling silver chain Necklace, Mens chain, Cu...         573.0   \n",
       "1     Name necklace. Silver name necklace. Personali...         464.0   \n",
       "10    Volleyball Sport Charm 1.25\" Personalized with...        1729.0   \n",
       "100   Rainbow Moonstone Necklace Moonstone Pendant N...         242.0   \n",
       "1000  Malachite Heart - malachite stone - healing cr...       18235.0   \n",
       "\n",
       "                                              materials  gold  silver  \\\n",
       "0     solid 925 sterling silver italian chain if wan...   0.0     1.0   \n",
       "1                                 solid sterling silver   0.0     1.0   \n",
       "10                    sterling silver silver rolo chain   0.0     1.0   \n",
       "100                                        silver stone   0.0     1.0   \n",
       "1000  love light positive energy malachite malachite...   0.0     0.0   \n",
       "\n",
       "      diamond  brass  vintage  year  handmade  \\\n",
       "0         0.0    0.0        0   NaN         1   \n",
       "1         0.0    0.0        0   NaN         1   \n",
       "10        0.0    0.0        0   NaN         1   \n",
       "100       0.0    0.0        0   NaN         1   \n",
       "1000      0.0    0.0        0   NaN         1   \n",
       "\n",
       "                                                   desc  \\\n",
       "0     24 735 links 21mm 20 1300 links 395mm figaro 1...   \n",
       "1     package sent via international registered air ...   \n",
       "10    example james 6 number optional 2 digits perso...   \n",
       "100   gemstone necklace features gorgeous faceted dr...   \n",
       "1000  precious semi-precious gemstones used since re...   \n",
       "\n",
       "                                                  adesc  \n",
       "0     links links figaro browse shop links cable cha...  \n",
       "1     package sent via international registered air ...  \n",
       "10    example james number optional digits personali...  \n",
       "100   gemstone necklace features gorgeous faceted dr...  \n",
       "1000  precious semi-precious gemstones used since re...  "
      ]
     },
     "execution_count": 4,
     "metadata": {},
     "output_type": "execute_result"
    }
   ],
   "source": [
    "df_clean.head()"
   ]
  },
  {
   "cell_type": "code",
   "execution_count": 5,
   "metadata": {},
   "outputs": [],
   "source": [
    "# Reads an image from a file, decodes it into a dense tensor, and resizes it\n",
    "# to a fixed shape.\n",
    "def _parse_function(filename):\n",
    "    image_string = tf.read_file(filename)\n",
    "    image_decoded = tf.image.decode_jpeg(image_string)\n",
    "    image_resized = tf.image.resize_images(image_decoded, [224, 224])\n",
    "    return image_resized\n",
    "\n",
    "# A vector of filenames.\n",
    "#filenames = tf.constant([\"images/full/0a6f33919508fd6e0f6f049d668ef9d29b83e403.jpg\",\"images/full/0a51472a762e1af0ad8f62044f1de9863637bb0f.jpg\"])\n",
    "\n",
    "# `labels[i]` is the label for the image in `filenames[i].\n",
    "#labels = tf.constant([0, 37, ...])\n",
    "\n",
    "def create_dataset(filenames,batch_size=1):\n",
    "    dataset = tf.data.Dataset.from_tensor_slices(filenames)\n",
    "    dataset = dataset.map(_parse_function)\n",
    "    dataset = dataset.batch(batch_size)  # Batch size to use\n",
    "    iterator = dataset.make_one_shot_iterator()\n",
    "    batch_features = iterator.get_next()\n",
    "    #images = preprocess_input(batch_features)\n",
    "    return batch_features"
   ]
  },
  {
   "cell_type": "code",
   "execution_count": 6,
   "metadata": {},
   "outputs": [],
   "source": [
    "import os\n",
    "\n",
    "filenames=tf.constant([os.path.join('/home/eli/code/insight/etsy/etsyitems/imagesstore/',x[0]['path']) for x in df_clean['images'].values])"
   ]
  },
  {
   "cell_type": "code",
   "execution_count": 23,
   "metadata": {},
   "outputs": [],
   "source": [
    "import tensorflow as tf\n",
    "from tensorflow.keras.applications import mobilenet_v2\n",
    "from tensorflow.keras.preprocessing import image\n",
    "from tensorflow.keras.applications.mobilenet_v2 import preprocess_input\n",
    "import numpy as np\n",
    "image_string = tf.read_file('/home/eli/code/insight/etsy/etsyitems/images/full/0a6f33919508fd6e0f6f049d668ef9d29b83e403.jpg')\n",
    "image_decoded = tf.image.decode_jpeg(image_string)\n",
    "image_resized = tf.image.resize_images(image_decoded, [224, 224])\n",
    "img = tf.expand_dims(image_resized, axis=0)\n"
   ]
  },
  {
   "cell_type": "code",
   "execution_count": 27,
   "metadata": {},
   "outputs": [
    {
     "data": {
      "text/plain": [
       "(1, 224, 224, 3)"
      ]
     },
     "execution_count": 27,
     "metadata": {},
     "output_type": "execute_result"
    }
   ],
   "source": [
    "tf.Session().run(img).shape"
   ]
  },
  {
   "cell_type": "code",
   "execution_count": 21,
   "metadata": {},
   "outputs": [],
   "source": [
    "img = tf.keras.preprocessing.image.load_img('/home/eli/code/insight/etsy/etsyitems/images/full/0a6f33919508fd6e0f6f049d668ef9d29b83e403.jpg', target_size=(224, 224))\n",
    "x = tf.keras.preprocessing.image.img_to_array(img)\n",
    "x = np.expand_dims(x, axis=0)\n",
    "x = preprocess_input(x)"
   ]
  },
  {
   "cell_type": "code",
   "execution_count": 22,
   "metadata": {},
   "outputs": [
    {
     "data": {
      "text/plain": [
       "(1, 224, 224, 3)"
      ]
     },
     "execution_count": 22,
     "metadata": {},
     "output_type": "execute_result"
    }
   ],
   "source": [
    "x.shape"
   ]
  },
  {
   "cell_type": "code",
   "execution_count": 12,
   "metadata": {},
   "outputs": [
    {
     "ename": "ValueError",
     "evalue": "setting an array element with a sequence.",
     "output_type": "error",
     "traceback": [
      "\u001b[0;31m---------------------------------------------------------------------------\u001b[0m",
      "\u001b[0;31mValueError\u001b[0m                                Traceback (most recent call last)",
      "\u001b[0;32m<ipython-input-12-fa4f64900bbe>\u001b[0m in \u001b[0;36m<module>\u001b[0;34m\u001b[0m\n\u001b[0;32m----> 1\u001b[0;31m \u001b[0mimages\u001b[0m \u001b[0;34m=\u001b[0m \u001b[0mpreprocess_input\u001b[0m\u001b[0;34m(\u001b[0m\u001b[0mimage\u001b[0m\u001b[0;34m)\u001b[0m\u001b[0;34m\u001b[0m\u001b[0;34m\u001b[0m\u001b[0m\n\u001b[0m",
      "\u001b[0;32m~/anaconda3/envs/etsyapp/lib/python3.6/site-packages/tensorflow/python/keras/applications/__init__.py\u001b[0m in \u001b[0;36mwrapper\u001b[0;34m(*args, **kwargs)\u001b[0m\n\u001b[1;32m     68\u001b[0m       \u001b[0mkwargs\u001b[0m\u001b[0;34m[\u001b[0m\u001b[0;34m'models'\u001b[0m\u001b[0;34m]\u001b[0m \u001b[0;34m=\u001b[0m \u001b[0mmodels\u001b[0m\u001b[0;34m\u001b[0m\u001b[0;34m\u001b[0m\u001b[0m\n\u001b[1;32m     69\u001b[0m       \u001b[0mkwargs\u001b[0m\u001b[0;34m[\u001b[0m\u001b[0;34m'utils'\u001b[0m\u001b[0;34m]\u001b[0m \u001b[0;34m=\u001b[0m \u001b[0mutils\u001b[0m\u001b[0;34m\u001b[0m\u001b[0;34m\u001b[0m\u001b[0m\n\u001b[0;32m---> 70\u001b[0;31m     \u001b[0;32mreturn\u001b[0m \u001b[0mbase_fun\u001b[0m\u001b[0;34m(\u001b[0m\u001b[0;34m*\u001b[0m\u001b[0margs\u001b[0m\u001b[0;34m,\u001b[0m \u001b[0;34m**\u001b[0m\u001b[0mkwargs\u001b[0m\u001b[0;34m)\u001b[0m\u001b[0;34m\u001b[0m\u001b[0;34m\u001b[0m\u001b[0m\n\u001b[0m\u001b[1;32m     71\u001b[0m   \u001b[0;32mreturn\u001b[0m \u001b[0mwrapper\u001b[0m\u001b[0;34m\u001b[0m\u001b[0;34m\u001b[0m\u001b[0m\n\u001b[1;32m     72\u001b[0m \u001b[0;34m\u001b[0m\u001b[0m\n",
      "\u001b[0;32m~/anaconda3/envs/etsyapp/lib/python3.6/site-packages/tensorflow/python/keras/applications/mobilenet_v2.py\u001b[0m in \u001b[0;36mpreprocess_input\u001b[0;34m(*args, **kwargs)\u001b[0m\n\u001b[1;32m     42\u001b[0m \u001b[0;34m@\u001b[0m\u001b[0mkeras_modules_injection\u001b[0m\u001b[0;34m\u001b[0m\u001b[0;34m\u001b[0m\u001b[0m\n\u001b[1;32m     43\u001b[0m \u001b[0;32mdef\u001b[0m \u001b[0mpreprocess_input\u001b[0m\u001b[0;34m(\u001b[0m\u001b[0;34m*\u001b[0m\u001b[0margs\u001b[0m\u001b[0;34m,\u001b[0m \u001b[0;34m**\u001b[0m\u001b[0mkwargs\u001b[0m\u001b[0;34m)\u001b[0m\u001b[0;34m:\u001b[0m\u001b[0;34m\u001b[0m\u001b[0;34m\u001b[0m\u001b[0m\n\u001b[0;32m---> 44\u001b[0;31m   \u001b[0;32mreturn\u001b[0m \u001b[0mmobilenet_v2\u001b[0m\u001b[0;34m.\u001b[0m\u001b[0mpreprocess_input\u001b[0m\u001b[0;34m(\u001b[0m\u001b[0;34m*\u001b[0m\u001b[0margs\u001b[0m\u001b[0;34m,\u001b[0m \u001b[0;34m**\u001b[0m\u001b[0mkwargs\u001b[0m\u001b[0;34m)\u001b[0m\u001b[0;34m\u001b[0m\u001b[0;34m\u001b[0m\u001b[0m\n\u001b[0m",
      "\u001b[0;32m~/anaconda3/envs/etsyapp/lib/python3.6/site-packages/keras_applications/mobilenet_v2.py\u001b[0m in \u001b[0;36mpreprocess_input\u001b[0;34m(x, **kwargs)\u001b[0m\n\u001b[1;32m    111\u001b[0m     \u001b[0mx\u001b[0m \u001b[0;34m/=\u001b[0m \u001b[0;36m128.\u001b[0m\u001b[0;34m\u001b[0m\u001b[0;34m\u001b[0m\u001b[0m\n\u001b[1;32m    112\u001b[0m     \u001b[0mx\u001b[0m \u001b[0;34m-=\u001b[0m \u001b[0;36m1.\u001b[0m\u001b[0;34m\u001b[0m\u001b[0;34m\u001b[0m\u001b[0m\n\u001b[0;32m--> 113\u001b[0;31m     \u001b[0;32mreturn\u001b[0m \u001b[0mx\u001b[0m\u001b[0;34m.\u001b[0m\u001b[0mastype\u001b[0m\u001b[0;34m(\u001b[0m\u001b[0mnp\u001b[0m\u001b[0;34m.\u001b[0m\u001b[0mfloat32\u001b[0m\u001b[0;34m)\u001b[0m\u001b[0;34m\u001b[0m\u001b[0;34m\u001b[0m\u001b[0m\n\u001b[0m\u001b[1;32m    114\u001b[0m \u001b[0;34m\u001b[0m\u001b[0m\n\u001b[1;32m    115\u001b[0m \u001b[0;34m\u001b[0m\u001b[0m\n",
      "\u001b[0;31mValueError\u001b[0m: setting an array element with a sequence."
     ]
    }
   ],
   "source": [
    "images = preprocess_input(image)"
   ]
  },
  {
   "cell_type": "code",
   "execution_count": 8,
   "metadata": {},
   "outputs": [
    {
     "name": "stdout",
     "output_type": "stream",
     "text": [
      "CPU times: user 4min 34s, sys: 18 s, total: 4min 52s\n",
      "Wall time: 2min 27s\n"
     ]
    }
   ],
   "source": [
    "%%time\n",
    "batch_size=20\n",
    "for j in range(11,13):\n",
    "        i=0\n",
    "        features = np.zeros((500,1280))\n",
    "        while (i+batch_size)<501:\n",
    "            next_batch = create_dataset(filenames[j*500+i:j*500+i+20], batch_size=batch_size)\n",
    "            with tf.Session() as sess:\n",
    "                    first_batch = sess.run(next_batch)\n",
    "                    images = preprocess_input(first_batch)\n",
    "            features[i:i+batch_size,:] = model.predict(images)\n",
    "            np.save('features'+str(j+1),features)\n",
    "            i+=batch_size"
   ]
  },
  {
   "cell_type": "code",
   "execution_count": 11,
   "metadata": {},
   "outputs": [
    {
     "data": {
      "text/plain": [
       "TensorShape([Dimension(475)])"
      ]
     },
     "execution_count": 11,
     "metadata": {},
     "output_type": "execute_result"
    }
   ],
   "source": [
    "filenames[6500:].shape"
   ]
  },
  {
   "cell_type": "code",
   "execution_count": 13,
   "metadata": {},
   "outputs": [
    {
     "name": "stdout",
     "output_type": "stream",
     "text": [
      "CPU times: user 2min 17s, sys: 7.18 s, total: 2min 24s\n",
      "Wall time: 1min 1s\n"
     ]
    }
   ],
   "source": [
    "%%time\n",
    "batch_size=25\n",
    "i=0\n",
    "features = np.zeros((475,1280))\n",
    "while (i+batch_size)<476:\n",
    "    next_batch = create_dataset(filenames[6500:], batch_size=batch_size)\n",
    "    with tf.Session() as sess:\n",
    "            first_batch = sess.run(next_batch)\n",
    "            images = preprocess_input(first_batch)\n",
    "    features[i:i+batch_size,:] = model.predict(images)\n",
    "    np.save('features'+str(14),features)\n",
    "    i+=batch_size"
   ]
  },
  {
   "cell_type": "code",
   "execution_count": 14,
   "metadata": {},
   "outputs": [
    {
     "data": {
      "text/plain": [
       "(500, 1280)"
      ]
     },
     "execution_count": 14,
     "metadata": {},
     "output_type": "execute_result"
    }
   ],
   "source": [
    "features1 = np.load('features1.npy')\n",
    "features1.shape"
   ]
  },
  {
   "cell_type": "code",
   "execution_count": 16,
   "metadata": {},
   "outputs": [
    {
     "name": "stdout",
     "output_type": "stream",
     "text": [
      "CPU times: user 4 ms, sys: 36 ms, total: 40 ms\n",
      "Wall time: 991 ms\n"
     ]
    }
   ],
   "source": [
    "%%time\n",
    "features1 = np.load('features1.npy')\n",
    "features2 = np.load('features2.npy')\n",
    "features3 = np.load('features3.npy')\n",
    "features4 = np.load('features4.npy')\n",
    "features5 = np.load('features5.npy')\n",
    "features6 = np.load('features6.npy')\n",
    "features7 = np.load('features7.npy')\n",
    "features8 = np.load('features8.npy')\n",
    "features9 = np.load('features9.npy')\n",
    "features10 = np.load('features10.npy')\n",
    "features11 = np.load('features11.npy')\n",
    "features12 = np.load('features12.npy')\n",
    "features13 = np.load('features13.npy')\n",
    "features14 = np.load('features14.npy')"
   ]
  },
  {
   "cell_type": "code",
   "execution_count": 17,
   "metadata": {},
   "outputs": [
    {
     "data": {
      "text/plain": [
       "(6975, 1280)"
      ]
     },
     "execution_count": 17,
     "metadata": {},
     "output_type": "execute_result"
    }
   ],
   "source": [
    "features = np.concatenate((features1, features2, features3, features4, features5,\n",
    "                          features6, features7, features8, features9,features10,\n",
    "                          features11,features12,features13,features14), axis=0)\n",
    "features.shape"
   ]
  },
  {
   "cell_type": "code",
   "execution_count": 18,
   "metadata": {},
   "outputs": [],
   "source": [
    "np.save('img_features',features)"
   ]
  },
  {
   "cell_type": "code",
   "execution_count": 19,
   "metadata": {},
   "outputs": [],
   "source": [
    "from sklearn.metrics.pairwise import cosine_similarity"
   ]
  },
  {
   "cell_type": "code",
   "execution_count": 20,
   "metadata": {},
   "outputs": [
    {
     "name": "stdout",
     "output_type": "stream",
     "text": [
      "CPU times: user 2.33 s, sys: 164 ms, total: 2.5 s\n",
      "Wall time: 2.79 s\n"
     ]
    }
   ],
   "source": [
    "%%time\n",
    "img_sims = cosine_similarity(features)"
   ]
  },
  {
   "cell_type": "code",
   "execution_count": 22,
   "metadata": {},
   "outputs": [],
   "source": [
    "np.save('img_cossim',img_sims)"
   ]
  },
  {
   "cell_type": "code",
   "execution_count": 37,
   "metadata": {},
   "outputs": [
    {
     "ename": "ValueError",
     "evalue": "Error when checking input: expected input_1 to have 4 dimensions, but got array with shape (224, 224, 3)",
     "output_type": "error",
     "traceback": [
      "\u001b[0;31m---------------------------------------------------------------------------\u001b[0m",
      "\u001b[0;31mValueError\u001b[0m                                Traceback (most recent call last)",
      "\u001b[0;32m<ipython-input-37-f5fd165388aa>\u001b[0m in \u001b[0;36m<module>\u001b[0;34m\u001b[0m\n\u001b[1;32m      3\u001b[0m     \u001b[0mnew_batch\u001b[0m \u001b[0;34m=\u001b[0m \u001b[0msess\u001b[0m\u001b[0;34m.\u001b[0m\u001b[0mrun\u001b[0m\u001b[0;34m(\u001b[0m\u001b[0mnext_batch\u001b[0m\u001b[0;34m)\u001b[0m\u001b[0;34m\u001b[0m\u001b[0;34m\u001b[0m\u001b[0m\n\u001b[1;32m      4\u001b[0m     \u001b[0mimages\u001b[0m \u001b[0;34m=\u001b[0m \u001b[0mpreprocess_input\u001b[0m\u001b[0;34m(\u001b[0m\u001b[0mnew_batch\u001b[0m\u001b[0;34m)\u001b[0m\u001b[0;34m\u001b[0m\u001b[0;34m\u001b[0m\u001b[0m\n\u001b[0;32m----> 5\u001b[0;31m     \u001b[0mfeatures\u001b[0m \u001b[0;34m=\u001b[0m\u001b[0mmodel\u001b[0m\u001b[0;34m.\u001b[0m\u001b[0mpredict\u001b[0m\u001b[0;34m(\u001b[0m\u001b[0mimages\u001b[0m\u001b[0;34m,\u001b[0m \u001b[0mbatch_size\u001b[0m\u001b[0;34m=\u001b[0m\u001b[0;36m20\u001b[0m\u001b[0;34m)\u001b[0m\u001b[0;34m\u001b[0m\u001b[0;34m\u001b[0m\u001b[0m\n\u001b[0m",
      "\u001b[0;32m~/anaconda3/envs/etsyapp/lib/python3.6/site-packages/tensorflow/python/keras/engine/training.py\u001b[0m in \u001b[0;36mpredict\u001b[0;34m(self, x, batch_size, verbose, steps, max_queue_size, workers, use_multiprocessing)\u001b[0m\n\u001b[1;32m   1862\u001b[0m     \u001b[0;31m# means that we end up calculating it twice which we should avoid.\u001b[0m\u001b[0;34m\u001b[0m\u001b[0;34m\u001b[0m\u001b[0;34m\u001b[0m\u001b[0m\n\u001b[1;32m   1863\u001b[0m     x, _, _ = self._standardize_user_data(\n\u001b[0;32m-> 1864\u001b[0;31m         x, check_steps=True, steps_name='steps', steps=steps)\n\u001b[0m\u001b[1;32m   1865\u001b[0m \u001b[0;34m\u001b[0m\u001b[0m\n\u001b[1;32m   1866\u001b[0m     \u001b[0;32mif\u001b[0m \u001b[0mcontext\u001b[0m\u001b[0;34m.\u001b[0m\u001b[0mexecuting_eagerly\u001b[0m\u001b[0;34m(\u001b[0m\u001b[0;34m)\u001b[0m\u001b[0;34m:\u001b[0m\u001b[0;34m\u001b[0m\u001b[0;34m\u001b[0m\u001b[0m\n",
      "\u001b[0;32m~/anaconda3/envs/etsyapp/lib/python3.6/site-packages/tensorflow/python/keras/engine/training.py\u001b[0m in \u001b[0;36m_standardize_user_data\u001b[0;34m(self, x, y, sample_weight, class_weight, batch_size, check_steps, steps_name, steps, validation_split)\u001b[0m\n\u001b[1;32m    990\u001b[0m         \u001b[0mx\u001b[0m\u001b[0;34m,\u001b[0m \u001b[0my\u001b[0m\u001b[0;34m,\u001b[0m \u001b[0msample_weight\u001b[0m \u001b[0;34m=\u001b[0m \u001b[0mnext_element\u001b[0m\u001b[0;34m\u001b[0m\u001b[0;34m\u001b[0m\u001b[0m\n\u001b[1;32m    991\u001b[0m     x, y, sample_weights = self._standardize_weights(x, y, sample_weight,\n\u001b[0;32m--> 992\u001b[0;31m                                                      class_weight, batch_size)\n\u001b[0m\u001b[1;32m    993\u001b[0m     \u001b[0;32mreturn\u001b[0m \u001b[0mx\u001b[0m\u001b[0;34m,\u001b[0m \u001b[0my\u001b[0m\u001b[0;34m,\u001b[0m \u001b[0msample_weights\u001b[0m\u001b[0;34m\u001b[0m\u001b[0;34m\u001b[0m\u001b[0m\n\u001b[1;32m    994\u001b[0m \u001b[0;34m\u001b[0m\u001b[0m\n",
      "\u001b[0;32m~/anaconda3/envs/etsyapp/lib/python3.6/site-packages/tensorflow/python/keras/engine/training.py\u001b[0m in \u001b[0;36m_standardize_weights\u001b[0;34m(self, x, y, sample_weight, class_weight, batch_size)\u001b[0m\n\u001b[1;32m   1115\u001b[0m         \u001b[0mfeed_input_shapes\u001b[0m\u001b[0;34m,\u001b[0m\u001b[0;34m\u001b[0m\u001b[0;34m\u001b[0m\u001b[0m\n\u001b[1;32m   1116\u001b[0m         \u001b[0mcheck_batch_axis\u001b[0m\u001b[0;34m=\u001b[0m\u001b[0;32mFalse\u001b[0m\u001b[0;34m,\u001b[0m  \u001b[0;31m# Don't enforce the batch size.\u001b[0m\u001b[0;34m\u001b[0m\u001b[0;34m\u001b[0m\u001b[0m\n\u001b[0;32m-> 1117\u001b[0;31m         exception_prefix='input')\n\u001b[0m\u001b[1;32m   1118\u001b[0m \u001b[0;34m\u001b[0m\u001b[0m\n\u001b[1;32m   1119\u001b[0m     \u001b[0;32mif\u001b[0m \u001b[0my\u001b[0m \u001b[0;32mis\u001b[0m \u001b[0;32mnot\u001b[0m \u001b[0;32mNone\u001b[0m\u001b[0;34m:\u001b[0m\u001b[0;34m\u001b[0m\u001b[0;34m\u001b[0m\u001b[0m\n",
      "\u001b[0;32m~/anaconda3/envs/etsyapp/lib/python3.6/site-packages/tensorflow/python/keras/engine/training_utils.py\u001b[0m in \u001b[0;36mstandardize_input_data\u001b[0;34m(data, names, shapes, check_batch_axis, exception_prefix)\u001b[0m\n\u001b[1;32m    321\u001b[0m                            \u001b[0;34m': expected '\u001b[0m \u001b[0;34m+\u001b[0m \u001b[0mnames\u001b[0m\u001b[0;34m[\u001b[0m\u001b[0mi\u001b[0m\u001b[0;34m]\u001b[0m \u001b[0;34m+\u001b[0m \u001b[0;34m' to have '\u001b[0m \u001b[0;34m+\u001b[0m\u001b[0;34m\u001b[0m\u001b[0;34m\u001b[0m\u001b[0m\n\u001b[1;32m    322\u001b[0m                            \u001b[0mstr\u001b[0m\u001b[0;34m(\u001b[0m\u001b[0mlen\u001b[0m\u001b[0;34m(\u001b[0m\u001b[0mshape\u001b[0m\u001b[0;34m)\u001b[0m\u001b[0;34m)\u001b[0m \u001b[0;34m+\u001b[0m \u001b[0;34m' dimensions, but got array '\u001b[0m\u001b[0;34m\u001b[0m\u001b[0;34m\u001b[0m\u001b[0m\n\u001b[0;32m--> 323\u001b[0;31m                            'with shape ' + str(data_shape))\n\u001b[0m\u001b[1;32m    324\u001b[0m         \u001b[0;32mif\u001b[0m \u001b[0;32mnot\u001b[0m \u001b[0mcheck_batch_axis\u001b[0m\u001b[0;34m:\u001b[0m\u001b[0;34m\u001b[0m\u001b[0;34m\u001b[0m\u001b[0m\n\u001b[1;32m    325\u001b[0m           \u001b[0mdata_shape\u001b[0m \u001b[0;34m=\u001b[0m \u001b[0mdata_shape\u001b[0m\u001b[0;34m[\u001b[0m\u001b[0;36m1\u001b[0m\u001b[0;34m:\u001b[0m\u001b[0;34m]\u001b[0m\u001b[0;34m\u001b[0m\u001b[0;34m\u001b[0m\u001b[0m\n",
      "\u001b[0;31mValueError\u001b[0m: Error when checking input: expected input_1 to have 4 dimensions, but got array with shape (224, 224, 3)"
     ]
    }
   ],
   "source": [
    "with tf.Session() as sess:\n",
    "    next_batch = create_dataset(filenames=filenames)\n",
    "    new_batch = sess.run(next_batch)\n",
    "    images = preprocess_input(new_batch)\n",
    "    features =model.predict(images, batch_size=20)"
   ]
  },
  {
   "cell_type": "code",
   "execution_count": 32,
   "metadata": {},
   "outputs": [
    {
     "data": {
      "text/plain": [
       "(10, 224, 224, 3)"
      ]
     },
     "execution_count": 32,
     "metadata": {},
     "output_type": "execute_result"
    }
   ],
   "source": [
    "images.shape"
   ]
  },
  {
   "cell_type": "code",
   "execution_count": 33,
   "metadata": {},
   "outputs": [],
   "source": [
    "features = model.predict(images)"
   ]
  },
  {
   "cell_type": "code",
   "execution_count": 29,
   "metadata": {},
   "outputs": [
    {
     "data": {
      "text/plain": [
       "(10, 1280)"
      ]
     },
     "execution_count": 29,
     "metadata": {},
     "output_type": "execute_result"
    }
   ],
   "source": [
    "features.shape"
   ]
  },
  {
   "cell_type": "code",
   "execution_count": 20,
   "metadata": {},
   "outputs": [],
   "source": [
    "next_batch = create_dataset(filenames, batch_size=20)\n",
    "with tf.Session() as sess:\n",
    "    first_batch = sess.run(next_batch)\n",
    "x_d = first_batch"
   ]
  },
  {
   "cell_type": "code",
   "execution_count": 21,
   "metadata": {},
   "outputs": [
    {
     "data": {
      "text/plain": [
       "(2, 224, 224, 3)"
      ]
     },
     "execution_count": 21,
     "metadata": {},
     "output_type": "execute_result"
    }
   ],
   "source": [
    "features = model.predict(x)"
   ]
  },
  {
   "cell_type": "code",
   "execution_count": 22,
   "metadata": {},
   "outputs": [
    {
     "data": {
      "text/plain": [
       "(2, 224, 224, 3)"
      ]
     },
     "execution_count": 22,
     "metadata": {},
     "output_type": "execute_result"
    }
   ],
   "source": [
    "images = preprocess_input(x_d)\n",
    "images.shape"
   ]
  },
  {
   "cell_type": "code",
   "execution_count": 23,
   "metadata": {},
   "outputs": [],
   "source": [
    "features = model.predict(images)"
   ]
  },
  {
   "cell_type": "code",
   "execution_count": 25,
   "metadata": {},
   "outputs": [
    {
     "data": {
      "text/plain": [
       "(2, 1280)"
      ]
     },
     "execution_count": 25,
     "metadata": {},
     "output_type": "execute_result"
    }
   ],
   "source": [
    "features.shape"
   ]
  },
  {
   "cell_type": "code",
   "execution_count": 9,
   "metadata": {},
   "outputs": [
    {
     "data": {
      "text/plain": [
       "(1, 224, 224, 3)"
      ]
     },
     "execution_count": 9,
     "metadata": {},
     "output_type": "execute_result"
    }
   ],
   "source": [
    "x = np.expand_dims(x, axis=0)\n",
    "x.shape"
   ]
  },
  {
   "cell_type": "code",
   "execution_count": 4,
   "metadata": {},
   "outputs": [
    {
     "data": {
      "text/plain": [
       "array([[0.        , 0.        , 0.04532191, ..., 0.48016357, 0.44111726,\n",
       "        0.69744337]], dtype=float32)"
      ]
     },
     "execution_count": 4,
     "metadata": {},
     "output_type": "execute_result"
    }
   ],
   "source": [
    "features"
   ]
  },
  {
   "cell_type": "code",
   "execution_count": 5,
   "metadata": {},
   "outputs": [
    {
     "name": "stderr",
     "output_type": "stream",
     "text": [
      "/home/eli/anaconda3/envs/etsyapp/lib/python3.6/site-packages/keras_applications/mobilenet_v2.py:306: UserWarning: MobileNet shape is undefined. Weights for input shape(224, 224) will be loaded.\n",
      "  warnings.warn('MobileNet shape is undefined.'\n"
     ]
    }
   ],
   "source": [
    "model2 = mobilenet_v2.MobileNetV2(weights='imagenet',include_top=False)\n",
    "features2 = model2.predict(x)"
   ]
  },
  {
   "cell_type": "code",
   "execution_count": 7,
   "metadata": {},
   "outputs": [
    {
     "data": {
      "text/plain": [
       "(1, 7, 7, 1280)"
      ]
     },
     "execution_count": 7,
     "metadata": {},
     "output_type": "execute_result"
    }
   ],
   "source": [
    "features2.shape"
   ]
  },
  {
   "cell_type": "code",
   "execution_count": null,
   "metadata": {},
   "outputs": [],
   "source": []
  }
 ],
 "metadata": {
  "kernelspec": {
   "display_name": "Python 3",
   "language": "python",
   "name": "python3"
  },
  "language_info": {
   "codemirror_mode": {
    "name": "ipython",
    "version": 3
   },
   "file_extension": ".py",
   "mimetype": "text/x-python",
   "name": "python",
   "nbconvert_exporter": "python",
   "pygments_lexer": "ipython3",
   "version": "3.6.8"
  }
 },
 "nbformat": 4,
 "nbformat_minor": 2
}
