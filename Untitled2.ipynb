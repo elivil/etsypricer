{
 "cells": [
  {
   "cell_type": "code",
   "execution_count": 1,
   "metadata": {},
   "outputs": [],
   "source": [
    "import pandas as pd"
   ]
  },
  {
   "cell_type": "code",
   "execution_count": 2,
   "metadata": {},
   "outputs": [],
   "source": [
    "df = pd.read_json('cleandf.json')"
   ]
  },
  {
   "cell_type": "code",
   "execution_count": 6,
   "metadata": {},
   "outputs": [
    {
     "data": {
      "text/plain": [
       "0       24 weightgpc 735 grams width links 21mm 20 inc...\n",
       "1       the package is sent via international register...\n",
       "10      example james 6 number is optional and can be ...\n",
       "100     this gemstone necklace features a gorgeous fac...\n",
       "1000    precious and semi-precious gemstones have been...\n",
       "1001    for international shipping please contact me t...\n",
       "1002    order expedited please let us know directly th...\n",
       "1003    item  pd4104width 41 mmweight 1 gmetal 14k whi...\n",
       "1004    for an expanded offering of personalized jewel...\n",
       "1005    small detailed sterling silver not antique or ...\n",
       "1006     y o u  m a y  a l s o  l i k e  this necklace...\n",
       "1007    ready to gift all pieces are packaged in a gif...\n",
       "1009    real 14k yellow gold chain necklace dainty loo...\n",
       "1010    beautiful   925 silver roman glass hand made p...\n",
       "1011    wearing or carrying animal parts dates back mo...\n",
       "1013    hello spring  - ems express shipping costs 30 ...\n",
       "1015     all necklaces come packaged and ready to gift...\n",
       "1016    weight  5grams metal  14k yellow gold not plat...\n",
       "1017    the international bestseller two necklaces giv...\n",
       "1018    gold chain measures approximately 16 long diam...\n",
       "1019    for the complete and perfect gift find the mat...\n",
       "102     ---------------------------------    ---------...\n",
       "1022    please note that you may be charged taxes by y...\n",
       "1027      free shipping   within the usa find out abou...\n",
       "1028    i trace and edit if needed handwriting sample ...\n",
       "103     -  16mm 58 disc thanks for shopping and suppor...\n",
       "1030    tigers eye is a most ancient talisman mysterio...\n",
       "1031    please visit my shop to see my other creations...\n",
       "1033    crystalavenues  thank you for looking please m...\n",
       "1034    pearls and crystal this necklace is perfectly ...\n",
       "                              ...                        \n",
       "993     this lovely petite chain is perfect for pendan...\n",
       "9932     each crystal will vary but will be equally be...\n",
       "9933    - 18 k rose gold finish simple backdrop neckla...\n",
       "9934    this elegant wedding necklace made with swarov...\n",
       "9938    not only is peridot a birthstone for august bu...\n",
       "994      length of chain is about 17 long if you need ...\n",
       "9940    all our merchandises are made for children age...\n",
       "9941    beautiful laboradite necklace with larger face...\n",
       "9943    the british crown was minted for many years an...\n",
       "9944    size 19 to the bottom of the pendent pendent i...\n",
       "9945    please note in message to seller upon checkout...\n",
       "9946    please click on the ask a question button next...\n",
       "9947    this necklace looks best on a short-mid length...\n",
       "9948    i love layering gold and silver for a more com...\n",
       "995     most items from my store qualify for flat rate...\n",
       "9950       since each one is made individually they ar...\n",
       "9951    this necklace is very delicate  but strong  ha...\n",
       "9952    the top and bottom layers have a hammered rust...\n",
       "9958    shipped in a jewelry gift box ready for a fabu...\n",
       "996     crystal length 114 inches  29 cm  check out ou...\n",
       "9960    aquarius --- january 20 - february 18 capricor...\n",
       "9961    crystalavenues  thank you for looking back to ...\n",
       "9962    please let me know during checkout which optio...\n",
       "9963    14k gold fill sterling silver or 14k rose gold...\n",
       "9964    all our chains are crafted from guaranteed 100...\n",
       "9965    original vinco if your buying this from anywhe...\n",
       "9966    larimar moonstone kunzite and amazonite mala b...\n",
       "997     size shipping wrapping please let me know if y...\n",
       "998     pictured lengths the perfect layering piece to...\n",
       "999     this listing is for one necklace 2 wrap it aro...\n",
       "Name: description, Length: 6975, dtype: object"
      ]
     },
     "execution_count": 6,
     "metadata": {},
     "output_type": "execute_result"
    }
   ],
   "source": [
    "df['description']"
   ]
  },
  {
   "cell_type": "code",
   "execution_count": 4,
   "metadata": {},
   "outputs": [],
   "source": [
    "df[['price']].to_json('cleandfprice.json')"
   ]
  },
  {
   "cell_type": "code",
   "execution_count": 5,
   "metadata": {},
   "outputs": [],
   "source": [
    "df[['price','adesc']].to_json('cleandfadescprice.json')"
   ]
  },
  {
   "cell_type": "code",
   "execution_count": null,
   "metadata": {},
   "outputs": [],
   "source": []
  }
 ],
 "metadata": {
  "kernelspec": {
   "display_name": "Python 3",
   "language": "python",
   "name": "python3"
  },
  "language_info": {
   "codemirror_mode": {
    "name": "ipython",
    "version": 3
   },
   "file_extension": ".py",
   "mimetype": "text/x-python",
   "name": "python",
   "nbconvert_exporter": "python",
   "pygments_lexer": "ipython3",
   "version": "3.6.8"
  }
 },
 "nbformat": 4,
 "nbformat_minor": 2
}
