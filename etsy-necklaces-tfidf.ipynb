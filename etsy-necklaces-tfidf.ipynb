{
 "cells": [
  {
   "cell_type": "code",
   "execution_count": 1,
   "metadata": {},
   "outputs": [],
   "source": [
    "import pandas as pd\n",
    "import matplotlib.pyplot as plt\n",
    "import seaborn as sns\n",
    "import numpy as np\n",
    "import re\n",
    "import nltk\n",
    "from nltk.corpus import stopwords"
   ]
  },
  {
   "cell_type": "code",
   "execution_count": 2,
   "metadata": {},
   "outputs": [],
   "source": [
    "df = pd.read_json('etsynecklaces10000.json')"
   ]
  },
  {
   "cell_type": "code",
   "execution_count": 3,
   "metadata": {},
   "outputs": [
    {
     "data": {
      "text/plain": [
       "9967"
      ]
     },
     "execution_count": 3,
     "metadata": {},
     "output_type": "execute_result"
    }
   ],
   "source": [
    "len(df)"
   ]
  },
  {
   "cell_type": "code",
   "execution_count": 4,
   "metadata": {},
   "outputs": [
    {
     "data": {
      "text/html": [
       "<div>\n",
       "<style scoped>\n",
       "    .dataframe tbody tr th:only-of-type {\n",
       "        vertical-align: middle;\n",
       "    }\n",
       "\n",
       "    .dataframe tbody tr th {\n",
       "        vertical-align: top;\n",
       "    }\n",
       "\n",
       "    .dataframe thead th {\n",
       "        text-align: right;\n",
       "    }\n",
       "</style>\n",
       "<table border=\"1\" class=\"dataframe\">\n",
       "  <thead>\n",
       "    <tr style=\"text-align: right;\">\n",
       "      <th></th>\n",
       "      <th>cur</th>\n",
       "      <th>description</th>\n",
       "      <th>favorites</th>\n",
       "      <th>image_urls</th>\n",
       "      <th>images</th>\n",
       "      <th>overview</th>\n",
       "      <th>price</th>\n",
       "      <th>script</th>\n",
       "      <th>title</th>\n",
       "    </tr>\n",
       "  </thead>\n",
       "  <tbody>\n",
       "    <tr>\n",
       "      <th>0</th>\n",
       "      <td>USD</td>\n",
       "      <td>[\\n    These beautiful high-quality Italian ch...</td>\n",
       "      <td>3737.0</td>\n",
       "      <td>[https://i.etsystatic.com/9408646/r/il/89302d/...</td>\n",
       "      <td>[{'url': 'https://i.etsystatic.com/9408646/r/i...</td>\n",
       "      <td>[\\n    Handmade item\\n, \\n    Materials: Solid...</td>\n",
       "      <td>15.00</td>\n",
       "      <td>[\\n    {\\n    \"@type\": \"Product\",\\n    \"@conte...</td>\n",
       "      <td>Sterling silver chain Necklace, Mens chain, Cu...</td>\n",
       "    </tr>\n",
       "    <tr>\n",
       "      <th>1</th>\n",
       "      <td>USD</td>\n",
       "      <td>[\\n    Name necklace. Silver name necklace. Pe...</td>\n",
       "      <td>248.0</td>\n",
       "      <td>[https://i.etsystatic.com/7353734/r/il/d16bb4/...</td>\n",
       "      <td>[{'url': 'https://i.etsystatic.com/7353734/r/i...</td>\n",
       "      <td>[\\n    Handmade item\\n, \\n    Material: solid ...</td>\n",
       "      <td>26.00</td>\n",
       "      <td>[\\n    {\\n    \"@type\": \"Product\",\\n    \"@conte...</td>\n",
       "      <td>Name necklace. Silver name necklace. Personali...</td>\n",
       "    </tr>\n",
       "    <tr>\n",
       "      <th>2</th>\n",
       "      <td>USD</td>\n",
       "      <td>[\\n    !!1 SALE !!! WAS $400 - NOW $300 !!! SA...</td>\n",
       "      <td>243.0</td>\n",
       "      <td>[https://i.etsystatic.com/6500161/r/il/eca1b4/...</td>\n",
       "      <td>[{'url': 'https://i.etsystatic.com/6500161/r/i...</td>\n",
       "      <td>[\\n    Handmade item\\n, \\n    Chain style: Bea...</td>\n",
       "      <td>300.00</td>\n",
       "      <td>[\\n    {\\n    \"@type\": \"Product\",\\n    \"@conte...</td>\n",
       "      <td>SALE ! High fasion bead etnic embroidery neckl...</td>\n",
       "    </tr>\n",
       "    <tr>\n",
       "      <th>3</th>\n",
       "      <td>USD</td>\n",
       "      <td>[\\n    Moonstone Mala Necklace, Moonstone Neck...</td>\n",
       "      <td>1265.0</td>\n",
       "      <td>[https://i.etsystatic.com/10730572/r/il/4a2401...</td>\n",
       "      <td>[{'url': 'https://i.etsystatic.com/10730572/r/...</td>\n",
       "      <td>[\\n    Handmade item\\n, \\n    Necklace length:...</td>\n",
       "      <td>176.00</td>\n",
       "      <td>[\\n    {\\n    \"@type\": \"Product\",\\n    \"@conte...</td>\n",
       "      <td>Divine Feminine Moonstone Mala - Beaded Neckla...</td>\n",
       "    </tr>\n",
       "    <tr>\n",
       "      <th>4</th>\n",
       "      <td>USD</td>\n",
       "      <td>[\\n    Original Filigree Trancelim Double Neck...</td>\n",
       "      <td>NaN</td>\n",
       "      <td>[https://i.etsystatic.com/12491321/r/il/a79107...</td>\n",
       "      <td>[{'url': 'https://i.etsystatic.com/12491321/r/...</td>\n",
       "      <td>[\\n    Handmade item\\n, \\n    Material: Silver...</td>\n",
       "      <td>84.00</td>\n",
       "      <td>[\\n    {\\n    \"@type\": \"Product\",\\n    \"@conte...</td>\n",
       "      <td>Portuguese Filigree NECKLACE Double Trancelim ...</td>\n",
       "    </tr>\n",
       "  </tbody>\n",
       "</table>\n",
       "</div>"
      ],
      "text/plain": [
       "   cur                                        description  favorites  \\\n",
       "0  USD  [\\n    These beautiful high-quality Italian ch...     3737.0   \n",
       "1  USD  [\\n    Name necklace. Silver name necklace. Pe...      248.0   \n",
       "2  USD  [\\n    !!1 SALE !!! WAS $400 - NOW $300 !!! SA...      243.0   \n",
       "3  USD  [\\n    Moonstone Mala Necklace, Moonstone Neck...     1265.0   \n",
       "4  USD  [\\n    Original Filigree Trancelim Double Neck...        NaN   \n",
       "\n",
       "                                          image_urls  \\\n",
       "0  [https://i.etsystatic.com/9408646/r/il/89302d/...   \n",
       "1  [https://i.etsystatic.com/7353734/r/il/d16bb4/...   \n",
       "2  [https://i.etsystatic.com/6500161/r/il/eca1b4/...   \n",
       "3  [https://i.etsystatic.com/10730572/r/il/4a2401...   \n",
       "4  [https://i.etsystatic.com/12491321/r/il/a79107...   \n",
       "\n",
       "                                              images  \\\n",
       "0  [{'url': 'https://i.etsystatic.com/9408646/r/i...   \n",
       "1  [{'url': 'https://i.etsystatic.com/7353734/r/i...   \n",
       "2  [{'url': 'https://i.etsystatic.com/6500161/r/i...   \n",
       "3  [{'url': 'https://i.etsystatic.com/10730572/r/...   \n",
       "4  [{'url': 'https://i.etsystatic.com/12491321/r/...   \n",
       "\n",
       "                                            overview   price  \\\n",
       "0  [\\n    Handmade item\\n, \\n    Materials: Solid...   15.00   \n",
       "1  [\\n    Handmade item\\n, \\n    Material: solid ...   26.00   \n",
       "2  [\\n    Handmade item\\n, \\n    Chain style: Bea...  300.00   \n",
       "3  [\\n    Handmade item\\n, \\n    Necklace length:...  176.00   \n",
       "4  [\\n    Handmade item\\n, \\n    Material: Silver...   84.00   \n",
       "\n",
       "                                              script  \\\n",
       "0  [\\n    {\\n    \"@type\": \"Product\",\\n    \"@conte...   \n",
       "1  [\\n    {\\n    \"@type\": \"Product\",\\n    \"@conte...   \n",
       "2  [\\n    {\\n    \"@type\": \"Product\",\\n    \"@conte...   \n",
       "3  [\\n    {\\n    \"@type\": \"Product\",\\n    \"@conte...   \n",
       "4  [\\n    {\\n    \"@type\": \"Product\",\\n    \"@conte...   \n",
       "\n",
       "                                               title  \n",
       "0  Sterling silver chain Necklace, Mens chain, Cu...  \n",
       "1  Name necklace. Silver name necklace. Personali...  \n",
       "2  SALE ! High fasion bead etnic embroidery neckl...  \n",
       "3  Divine Feminine Moonstone Mala - Beaded Neckla...  \n",
       "4  Portuguese Filigree NECKLACE Double Trancelim ...  "
      ]
     },
     "execution_count": 4,
     "metadata": {},
     "output_type": "execute_result"
    }
   ],
   "source": [
    "df.head()"
   ]
  },
  {
   "cell_type": "code",
   "execution_count": 5,
   "metadata": {
    "scrolled": true
   },
   "outputs": [
    {
     "data": {
      "text/plain": [
       "8257"
      ]
     },
     "execution_count": 5,
     "metadata": {},
     "output_type": "execute_result"
    }
   ],
   "source": [
    "usdf=df[df['cur']=='USD']\n",
    "len(usdf)"
   ]
  },
  {
   "cell_type": "code",
   "execution_count": 18,
   "metadata": {},
   "outputs": [],
   "source": [
    "def text_cleanup(text):\n",
    "    text = list(set([txt.strip() for txt in text]))\n",
    "    text = ' '.join(text).strip()\n",
    "    linkregex = r\"((([A-Za-z]{3,9}:(?:\\/\\/)?)(?:[-;:&=\\+\\$,\\w]+@)?[A-Za-z0-9.-]+|(?:www.|[-;:&=\\+\\$,\\w]+@)[A-Za-z0-9.-]+)((?:\\/[\\+~%\\/.\\w\\-_]*)?\\??(?:[-\\+=&;%@.\\w_]*)#?(?:[\\w]*))?)\"\n",
    "    text = re.sub(linkregex, '', text)\n",
    "    text = re.sub(r\"[^a-zA-Z\\d\\s]\", '', text)\n",
    "    text = text.lower()\n",
    "    return text\n",
    "    \n",
    "def remove_stopwords(text):\n",
    "    s=set(stopwords.words('english'))\n",
    "    text = ' '.join([x for x in text.split() if not x in s])\n",
    "    return text\n",
    "\n",
    "def remove_numbers(text):\n",
    "    text = ' '.join([x for x in text.split() if not bool(re.search(r'\\d', x))])\n",
    "    return text"
   ]
  },
  {
   "cell_type": "code",
   "execution_count": 7,
   "metadata": {},
   "outputs": [
    {
     "name": "stderr",
     "output_type": "stream",
     "text": [
      "/home/eli/anaconda3/envs/etsyapp/lib/python3.6/site-packages/ipykernel_launcher.py:1: SettingWithCopyWarning: \n",
      "A value is trying to be set on a copy of a slice from a DataFrame.\n",
      "Try using .loc[row_indexer,col_indexer] = value instead\n",
      "\n",
      "See the caveats in the documentation: http://pandas.pydata.org/pandas-docs/stable/indexing.html#indexing-view-versus-copy\n",
      "  \"\"\"Entry point for launching an IPython kernel.\n"
     ]
    }
   ],
   "source": [
    "usdf['price'] = pd.to_numeric(usdf['price'].apply(lambda x: x.replace(',','')))"
   ]
  },
  {
   "cell_type": "code",
   "execution_count": 17,
   "metadata": {},
   "outputs": [
    {
     "data": {
      "text/plain": [
       "[\"\\n    These beautiful high-quality Italian chains are created with the finest sterling silver metal from Italy and they won't wear down, as silver plating can, no allergy metals are used. Under the US and Canadian federal law the jewel, must be accompanied by Stamps Of Quality 925 or sterling or ster or sterling silver mark, just if the piece is solid 925 sterling silver.\",\n",
       " 'More Solid 925 sterling silver Curb Chains: ',\n",
       " 'I have 300 CROSSES available: ',\n",
       " '  And, this link: ',\n",
       " ' 925 Sterling silver Italian chains link: ',\n",
       " 'Need charms?................. ',\n",
       " 'Classic Crosses .............. ',\n",
       " 'Celtic Crosses ................ ',\n",
       " 'FEATURE. Approx. Weight (g/pc): ',\n",
       " '~ Solid 925 Sterling Silver chain, select your length from the menu.',\n",
       " '~ Rolo chain size: 1mm.',\n",
       " '~ Cable chain size: 1.1 mm.',\n",
       " '~ Rope chain size: 1.1 mm.',\n",
       " 'CURB 1.5mm: Approx. Weight (g/pc): ',\n",
       " '16\" Weight(g/pc): 2.02 grams. Width Links: 1.5mm',\n",
       " '16\" Weight(g/pc): 2.30 grams. Width Links: 1.5mm',\n",
       " '18\" Weight(g/pc): 2.70 grams. Width Links: 1.5mm.',\n",
       " '20\" Weight(g/pc): 2.80 grams. Width Links: 1.5mm',\n",
       " '22\" Weight(g/pc): 3.20 grams. Width Links: 1.5mm.',\n",
       " '24\" Weight(g/pc): 3.60 grams. Width Links: 1.5mm.',\n",
       " '30\" Weight(g/pc): 4.30 grams. Width Links: 1.5mm.',\n",
       " 'CURB 2.1mm: Approx. Weight (g/pc): ',\n",
       " '16\" Weight(g/pc): 4.90 grams. Width Links: 2.1mm.',\n",
       " '18\" Weight(g/pc): 5.55 grams. Width Links: 2.1mm.',\n",
       " '20\" Weight(g/pc): 6.13 grams. Width Links: 2.1mm.',\n",
       " '22\" Weight(g/pc): 6.74 grams. Width Links: 2.1mm.',\n",
       " '24\" Weight(g/pc): 7.35 grams. Width Links: 2.1mm.',\n",
       " '30\" Weight(g/pc): 9.19 grams. Width Links: 2.1mm.',\n",
       " '36\" Weight(g/pc): 11.03 gram. Width Links: 2.1mm.',\n",
       " 'CURB 3mm: Approx. Weight (g/pc): ',\n",
       " '16 Inch Weight(g/pc): 7.20 grams. Width Links: 3mm',\n",
       " '18 Inch Weight(g/pc): 8.50 grams. Width Links: 3mm',\n",
       " '20 Inch Weight(g/pc): 8.80 grams. Width Links: 3mm',\n",
       " '22 Inch Weight(g/pc): 9.70 grams. Width Links: 3mm',\n",
       " '24 Inch Weight(g/pc): 11.11 grams. Width Links: 3mm',\n",
       " 'CURB 4mm: Approx. Weight (g/pc): ',\n",
       " '16 Inch Weight(g/pc): 10.20 grams. Width Links: 3.95mm',\n",
       " '18 Inch Weight(g/pc): 11.48 grams. Width Links: 3.95mm',\n",
       " '20 Inch Weight(g/pc): 13.00 grams. Width Links: 3.95mm',\n",
       " '22 Inch Weight(g/pc): 14.03 grams. Width Links: 3.95mm',\n",
       " '24 Inch Weight(g/pc): 15.30 grams. Width Links: 3.95mm',\n",
       " '26 Inch Weight(g/pc): 15.80 grams. Width Links: 3.95mm',\n",
       " '28 Inch Weight(g/pc): 17.40 grams. Width Links: 3.95mm',\n",
       " 'FIGARO 80: Approx. Weight (g/pc):  Offered in this listing.',\n",
       " '16 Inch Weight(g/pc): 6.40 grams. Width Links: 2.98mm',\n",
       " '18 Inch Weight(g/pc): 7.20 grams. Width Links: 2.98mm',\n",
       " '20 Inch Weight(g/pc): 8.00 grams. Width Links: 2.98mm',\n",
       " '22 Inch Weight(g/pc): 8.80 grams. Width Links: 2.98mm',\n",
       " '24 Inch Weight(g/pc): 9.60 grams. Width Links: 2.98mm',\n",
       " '30 Inch Weight(g/pc): 12.00 grams. Width Links: 2.98mm',\n",
       " '36 Inch Weight(g/pc): 14.40 grams. Width Links: 2.98mm',\n",
       " 'FIGARO 100: Approx. Weight (g/pc): ',\n",
       " '16 Inch Weight(g/pc): 9.50 grams. Width Links: 3.85mm',\n",
       " '18 Inch Weight(g/pc): 10.69 grams. Width Links: 3.85mm',\n",
       " '20 Inch Weight(g/pc): 11.88 grams. Width Links: 3.85mm',\n",
       " '22 Inch Weight(g/pc): 13.06 grams. Width Links: 3.85mm',\n",
       " '24 Inch Weight(g/pc): 14.25 grams. Width Links: 3.85mm',\n",
       " '26 Inch Weight(g/pc): 15.44 grams. Width Links: 3.85mm',\n",
       " '28 Inch Weight(g/pc): 16.63 grams. Width Links: 3.85mm',\n",
       " 'This listing link: ',\n",
       " \"These beautiful high-quality chains are created with the finest sterling silver metal from Italy and it won't wear down, as silver plating can. Under the US and Canadian federal law the jewel, must be accompanied by Stamps Of Quality 925 or sterling or ster or sterling silver mark, just if the piece is solid 925 sterling silver.\",\n",
       " '.CARE: With proper care, your fine quality silver will last a lifetime. Avoid exposing your jewelry with chemicals like bleach or ammonia, or swimming in chlorinated water. ',\n",
       " '.CLEAN: to prevent sterling tarnish build-up, a dulling that naturally occurs when sterling reacts with sulfur or hydrogen sulfide in the ambient air, wear your silver jewelry often it is the best way to prevent tarnish from building up. To clean your sterling use polishes formulated specifically to remove tarnish. You can find fine them at most hardware stores. Contact me for more details.',\n",
       " 'Browse shop: ',\n",
       " 'It will be sent in a organza bag or,  small gift box, silver or white.',\n",
       " 'Thank you very much for visiting our store.\\n',\n",
       " \"\\n    These beautiful high-quality Italian chains are created with the finest sterling silver metal from Italy and they won't wear down, as silver plating can, no allergy metals are used. Under the US and Canadian federal law the jewel, must be accompanied by Stamps Of Quality 925 or sterling or ster or sterling silver mark, just if the piece is solid 925 sterling silver.\",\n",
       " 'More Solid 925 sterling silver Curb Chains: ',\n",
       " 'I have 300 CROSSES available: ',\n",
       " '  And, this link: ',\n",
       " ' 925 Sterling silver Italian chains link: ',\n",
       " 'Need charms?................. ',\n",
       " 'Classic Crosses .............. ',\n",
       " 'Celtic Crosses ................ ',\n",
       " 'FEATURE. Approx. Weight (g/pc): ',\n",
       " '~ Solid 925 Sterling Silver chain, select your length from the menu.',\n",
       " '~ Rolo chain size: 1mm.',\n",
       " '~ Cable chain size: 1.1 mm.',\n",
       " '~ Rope chain size: 1.1 mm.',\n",
       " 'CURB 1.5mm: Approx. Weight (g/pc): ',\n",
       " '16\" Weight(g/pc): 2.02 grams. Width Links: 1.5mm',\n",
       " '16\" Weight(g/pc): 2.30 grams. Width Links: 1.5mm',\n",
       " '18\" Weight(g/pc): 2.70 grams. Width Links: 1.5mm.',\n",
       " '20\" Weight(g/pc): 2.80 grams. Width Links: 1.5mm',\n",
       " '22\" Weight(g/pc): 3.20 grams. Width Links: 1.5mm.',\n",
       " '24\" Weight(g/pc): 3.60 grams. Width Links: 1.5mm.',\n",
       " '30\" Weight(g/pc): 4.30 grams. Width Links: 1.5mm.',\n",
       " 'CURB 2.1mm: Approx. Weight (g/pc): ',\n",
       " '16\" Weight(g/pc): 4.90 grams. Width Links: 2.1mm.',\n",
       " '18\" Weight(g/pc): 5.55 grams. Width Links: 2.1mm.',\n",
       " '20\" Weight(g/pc): 6.13 grams. Width Links: 2.1mm.',\n",
       " '22\" Weight(g/pc): 6.74 grams. Width Links: 2.1mm.',\n",
       " '24\" Weight(g/pc): 7.35 grams. Width Links: 2.1mm.',\n",
       " '30\" Weight(g/pc): 9.19 grams. Width Links: 2.1mm.',\n",
       " '36\" Weight(g/pc): 11.03 gram. Width Links: 2.1mm.',\n",
       " 'CURB 3mm: Approx. Weight (g/pc): ',\n",
       " '16 Inch Weight(g/pc): 7.20 grams. Width Links: 3mm',\n",
       " '18 Inch Weight(g/pc): 8.50 grams. Width Links: 3mm',\n",
       " '20 Inch Weight(g/pc): 8.80 grams. Width Links: 3mm',\n",
       " '22 Inch Weight(g/pc): 9.70 grams. Width Links: 3mm',\n",
       " '24 Inch Weight(g/pc): 11.11 grams. Width Links: 3mm',\n",
       " 'CURB 4mm: Approx. Weight (g/pc): ',\n",
       " '16 Inch Weight(g/pc): 10.20 grams. Width Links: 3.95mm',\n",
       " '18 Inch Weight(g/pc): 11.48 grams. Width Links: 3.95mm',\n",
       " '20 Inch Weight(g/pc): 13.00 grams. Width Links: 3.95mm',\n",
       " '22 Inch Weight(g/pc): 14.03 grams. Width Links: 3.95mm',\n",
       " '24 Inch Weight(g/pc): 15.30 grams. Width Links: 3.95mm',\n",
       " '26 Inch Weight(g/pc): 15.80 grams. Width Links: 3.95mm',\n",
       " '28 Inch Weight(g/pc): 17.40 grams. Width Links: 3.95mm',\n",
       " 'FIGARO 80: Approx. Weight (g/pc):  Offered in this listing.',\n",
       " '16 Inch Weight(g/pc): 6.40 grams. Width Links: 2.98mm',\n",
       " '18 Inch Weight(g/pc): 7.20 grams. Width Links: 2.98mm',\n",
       " '20 Inch Weight(g/pc): 8.00 grams. Width Links: 2.98mm',\n",
       " '22 Inch Weight(g/pc): 8.80 grams. Width Links: 2.98mm',\n",
       " '24 Inch Weight(g/pc): 9.60 grams. Width Links: 2.98mm',\n",
       " '30 Inch Weight(g/pc): 12.00 grams. Width Links: 2.98mm',\n",
       " '36 Inch Weight(g/pc): 14.40 grams. Width Links: 2.98mm',\n",
       " 'FIGARO 100: Approx. Weight (g/pc): ',\n",
       " '16 Inch Weight(g/pc): 9.50 grams. Width Links: 3.85mm',\n",
       " '18 Inch Weight(g/pc): 10.69 grams. Width Links: 3.85mm',\n",
       " '20 Inch Weight(g/pc): 11.88 grams. Width Links: 3.85mm',\n",
       " '22 Inch Weight(g/pc): 13.06 grams. Width Links: 3.85mm',\n",
       " '24 Inch Weight(g/pc): 14.25 grams. Width Links: 3.85mm',\n",
       " '26 Inch Weight(g/pc): 15.44 grams. Width Links: 3.85mm',\n",
       " '28 Inch Weight(g/pc): 16.63 grams. Width Links: 3.85mm',\n",
       " 'This listing link: ',\n",
       " \"These beautiful high-quality chains are created with the finest sterling silver metal from Italy and it won't wear down, as silver plating can. Under the US and Canadian federal law the jewel, must be accompanied by Stamps Of Quality 925 or sterling or ster or sterling silver mark, just if the piece is solid 925 sterling silver.\",\n",
       " '.CARE: With proper care, your fine quality silver will last a lifetime. Avoid exposing your jewelry with chemicals like bleach or ammonia, or swimming in chlorinated water. ',\n",
       " '.CLEAN: to prevent sterling tarnish build-up, a dulling that naturally occurs when sterling reacts with sulfur or hydrogen sulfide in the ambient air, wear your silver jewelry often it is the best way to prevent tarnish from building up. To clean your sterling use polishes formulated specifically to remove tarnish. You can find fine them at most hardware stores. Contact me for more details.',\n",
       " 'Browse shop: ',\n",
       " 'It will be sent in a organza bag or,  small gift box, silver or white.',\n",
       " 'Thank you very much for visiting our store.\\n']"
      ]
     },
     "execution_count": 17,
     "metadata": {},
     "output_type": "execute_result"
    }
   ],
   "source": [
    "usdf['description'][0]"
   ]
  },
  {
   "cell_type": "code",
   "execution_count": 19,
   "metadata": {},
   "outputs": [
    {
     "data": {
      "text/plain": [
       "'feature approx weight gpc i have 300 crosses available figaro 80 approx weight gpc  offered in this listing these beautiful highquality chains are created with the finest sterling silver metal from italy and it wont wear down as silver plating can under the us and canadian federal law the jewel must be accompanied by stamps of quality 925 or sterling or ster or sterling silver mark just if the piece is solid 925 sterling silver 16 inch weightgpc 950 grams width links 385mm more solid 925 sterling silver curb chains classic crosses  30 weightgpc 919 grams width links 21mm 24 weightgpc 735 grams width links 21mm 26 inch weightgpc 1544 grams width links 385mm care with proper care your fine quality silver will last a lifetime avoid exposing your jewelry with chemicals like bleach or ammonia or swimming in chlorinated water 925 sterling silver italian chains link 20 weightgpc 280 grams width links 15mm 16 weightgpc 490 grams width links 21mm 18 inch weightgpc 850 grams width links 3mm clean to prevent sterling tarnish buildup a dulling that naturally occurs when sterling reacts with sulfur or hydrogen sulfide in the ambient air wear your silver jewelry often it is the best way to prevent tarnish from building up to clean your sterling use polishes formulated specifically to remove tarnish you can find fine them at most hardware stores contact me for more details curb 21mm approx weight gpc 20 inch weightgpc 800 grams width links 298mm 22 inch weightgpc 1403 grams width links 395mm 24 inch weightgpc 1425 grams width links 385mm 24 inch weightgpc 1111 grams width links 3mm 22 inch weightgpc 880 grams width links 298mm  cable chain size 11 mm and this link curb 3mm approx weight gpc 28 inch weightgpc 1740 grams width links 395mm 22 weightgpc 674 grams width links 21mm 22 weightgpc 320 grams width links 15mm 18 inch weightgpc 1148 grams width links 395mm 16 inch weightgpc 1020 grams width links 395mm 28 inch weightgpc 1663 grams width links 385mm 36 inch weightgpc 1440 grams width links 298mm 18 inch weightgpc 1069 grams width links 385mm 18 weightgpc 270 grams width links 15mm  solid 925 sterling silver chain select your length from the menu curb 4mm approx weight gpc 20 inch weightgpc 1300 grams width links 395mm  rope chain size 11 mm figaro 100 approx weight gpc these beautiful highquality italian chains are created with the finest sterling silver metal from italy and they wont wear down as silver plating can no allergy metals are used under the us and canadian federal law the jewel must be accompanied by stamps of quality 925 or sterling or ster or sterling silver mark just if the piece is solid 925 sterling silver need charms 20 weightgpc 613 grams width links 21mm 16 weightgpc 202 grams width links 15mm it will be sent in a organza bag or  small gift box silver or white browse shop celtic crosses  18 weightgpc 555 grams width links 21mm 20 inch weightgpc 1188 grams width links 385mm 16 weightgpc 230 grams width links 15mm 22 inch weightgpc 970 grams width links 3mm 18 inch weightgpc 720 grams width links 298mm  rolo chain size 1mm 22 inch weightgpc 1306 grams width links 385mm thank you very much for visiting our store 36 weightgpc 1103 gram width links 21mm 20 inch weightgpc 880 grams width links 3mm 24 weightgpc 360 grams width links 15mm 24 inch weightgpc 1530 grams width links 395mm 26 inch weightgpc 1580 grams width links 395mm 30 inch weightgpc 1200 grams width links 298mm 16 inch weightgpc 720 grams width links 3mm 30 weightgpc 430 grams width links 15mm 16 inch weightgpc 640 grams width links 298mm curb 15mm approx weight gpc this listing link 24 inch weightgpc 960 grams width links 298mm'"
      ]
     },
     "execution_count": 19,
     "metadata": {},
     "output_type": "execute_result"
    }
   ],
   "source": [
    "text_cleanup(usdf['description'][0])"
   ]
  },
  {
   "cell_type": "code",
   "execution_count": 7,
   "metadata": {},
   "outputs": [
    {
     "name": "stderr",
     "output_type": "stream",
     "text": [
      "/home/eli/anaconda3/envs/etsyapp/lib/python3.6/site-packages/ipykernel_launcher.py:1: SettingWithCopyWarning: \n",
      "A value is trying to be set on a copy of a slice from a DataFrame.\n",
      "Try using .loc[row_indexer,col_indexer] = value instead\n",
      "\n",
      "See the caveats in the documentation: http://pandas.pydata.org/pandas-docs/stable/indexing.html#indexing-view-versus-copy\n",
      "  \"\"\"Entry point for launching an IPython kernel.\n",
      "/home/eli/anaconda3/envs/etsyapp/lib/python3.6/site-packages/ipykernel_launcher.py:3: SettingWithCopyWarning: \n",
      "A value is trying to be set on a copy of a slice from a DataFrame.\n",
      "Try using .loc[row_indexer,col_indexer] = value instead\n",
      "\n",
      "See the caveats in the documentation: http://pandas.pydata.org/pandas-docs/stable/indexing.html#indexing-view-versus-copy\n",
      "  This is separate from the ipykernel package so we can avoid doing imports until\n",
      "/home/eli/anaconda3/envs/etsyapp/lib/python3.6/site-packages/ipykernel_launcher.py:4: SettingWithCopyWarning: \n",
      "A value is trying to be set on a copy of a slice from a DataFrame.\n",
      "Try using .loc[row_indexer,col_indexer] = value instead\n",
      "\n",
      "See the caveats in the documentation: http://pandas.pydata.org/pandas-docs/stable/indexing.html#indexing-view-versus-copy\n",
      "  after removing the cwd from sys.path.\n",
      "/home/eli/anaconda3/envs/etsyapp/lib/python3.6/site-packages/ipykernel_launcher.py:5: SettingWithCopyWarning: \n",
      "A value is trying to be set on a copy of a slice from a DataFrame.\n",
      "Try using .loc[row_indexer,col_indexer] = value instead\n",
      "\n",
      "See the caveats in the documentation: http://pandas.pydata.org/pandas-docs/stable/indexing.html#indexing-view-versus-copy\n",
      "  \"\"\"\n"
     ]
    }
   ],
   "source": [
    "tmp = usdf['description'][0].apply(lambda x: ''.join(x).strip())\n",
    "linkregex = r\"((([A-Za-z]{3,9}:(?:\\/\\/)?)(?:[-;:&=\\+\\$,\\w]+@)?[A-Za-z0-9.-]+|(?:www.|[-;:&=\\+\\$,\\w]+@)[A-Za-z0-9.-]+)((?:\\/[\\+~%\\/.\\w\\-_]*)?\\??(?:[-\\+=&;%@.\\w_]*)#?(?:[\\w]*))?)\"\n",
    "usdf['description'] = tmp.str.replace(linkregex, '')\n",
    "usdf['description'] = usdf['description'].str.replace(r\"[^a-zA-Z\\d\\s]\", '')\n",
    "usdf['description'] = usdf['description'].str.lower()"
   ]
  },
  {
   "cell_type": "code",
   "execution_count": 8,
   "metadata": {},
   "outputs": [],
   "source": [
    "\n",
    "#nltk.download('stopwords')"
   ]
  },
  {
   "cell_type": "code",
   "execution_count": 9,
   "metadata": {},
   "outputs": [],
   "source": [
    "from nltk.stem.snowball import SnowballStemmer\n",
    "stemmer = SnowballStemmer(\"english\", ignore_stopwords=True)\n",
    "\n",
    "#usdf['desc'] = usdf['description'].apply(lambda desc: ' '.join([stemmer.stem(x) for x in desc.split()]))"
   ]
  },
  {
   "cell_type": "code",
   "execution_count": 10,
   "metadata": {
    "scrolled": true
   },
   "outputs": [],
   "source": [
    "\n",
    "s=set(stopwords.words('english'))"
   ]
  },
  {
   "cell_type": "code",
   "execution_count": 11,
   "metadata": {},
   "outputs": [
    {
     "name": "stderr",
     "output_type": "stream",
     "text": [
      "/home/eli/anaconda3/envs/etsyapp/lib/python3.6/site-packages/ipykernel_launcher.py:1: SettingWithCopyWarning: \n",
      "A value is trying to be set on a copy of a slice from a DataFrame.\n",
      "Try using .loc[row_indexer,col_indexer] = value instead\n",
      "\n",
      "See the caveats in the documentation: http://pandas.pydata.org/pandas-docs/stable/indexing.html#indexing-view-versus-copy\n",
      "  \"\"\"Entry point for launching an IPython kernel.\n"
     ]
    }
   ],
   "source": [
    "usdf['desc'] = usdf['description'].apply(lambda desc: ' '.join([x for x in desc.split() if not x in s]))"
   ]
  },
  {
   "cell_type": "code",
   "execution_count": 12,
   "metadata": {},
   "outputs": [
    {
     "name": "stderr",
     "output_type": "stream",
     "text": [
      "/home/eli/anaconda3/envs/etsyapp/lib/python3.6/site-packages/ipykernel_launcher.py:2: SettingWithCopyWarning: \n",
      "A value is trying to be set on a copy of a slice from a DataFrame.\n",
      "Try using .loc[row_indexer,col_indexer] = value instead\n",
      "\n",
      "See the caveats in the documentation: http://pandas.pydata.org/pandas-docs/stable/indexing.html#indexing-view-versus-copy\n",
      "  \n"
     ]
    }
   ],
   "source": [
    "import re\n",
    "usdf['adesc'] = usdf['desc'].apply(lambda desc: ' '.join([x for x in desc.split() if not bool(re.search(r'\\d', x))]))"
   ]
  },
  {
   "cell_type": "code",
   "execution_count": 13,
   "metadata": {},
   "outputs": [],
   "source": [
    "from sklearn.model_selection import train_test_split\n",
    "X_train, X_test, y_train, y_test = train_test_split(\n",
    "    usdf['adesc'].values, usdf['price'].values, test_size=0.25, random_state=42)"
   ]
  },
  {
   "cell_type": "code",
   "execution_count": 14,
   "metadata": {},
   "outputs": [],
   "source": [
    "import logging\n",
    "logging.basicConfig(format='%(asctime)s : %(levelname)s : %(message)s', level=logging.INFO)"
   ]
  },
  {
   "cell_type": "code",
   "execution_count": 28,
   "metadata": {},
   "outputs": [
    {
     "name": "stdout",
     "output_type": "stream",
     "text": [
      "Folder \"/home/eli/code/insight/etsy/etsyitems/nlp\" will be used to save temporary dictionary and corpus.\n"
     ]
    }
   ],
   "source": [
    "import os\n",
    "import tempfile\n",
    "TEMP_FOLDER = \"/home/eli/code/insight/etsy/etsyitems/nlp\"\n",
    "print('Folder \"{}\" will be used to save temporary dictionary and corpus.'.format(TEMP_FOLDER))"
   ]
  },
  {
   "cell_type": "code",
   "execution_count": 16,
   "metadata": {},
   "outputs": [],
   "source": [
    "texts = [text.split() for text in X_train]"
   ]
  },
  {
   "cell_type": "markdown",
   "metadata": {},
   "source": [
    "## TFIDF ##"
   ]
  },
  {
   "cell_type": "code",
   "execution_count": 21,
   "metadata": {},
   "outputs": [
    {
     "name": "stderr",
     "output_type": "stream",
     "text": [
      "2019-01-28 11:10:14,190 : INFO : adding document #0 to Dictionary(0 unique tokens: [])\n",
      "2019-01-28 11:10:15,329 : INFO : built Dictionary(36127 unique tokens: ['alone', 'announcements', 'around', 'available', 'bracelet']...) from 6192 documents (total 1451014 corpus positions)\n",
      "2019-01-28 11:10:15,330 : INFO : saving Dictionary object under ~/code/insight/etsy/etsyitems/nlp/necklaces.dict, separately None\n",
      "2019-01-28 11:10:15,354 : INFO : saved ~/code/insight/etsy/etsyitems/nlp/necklaces.dict\n"
     ]
    },
    {
     "name": "stdout",
     "output_type": "stream",
     "text": [
      "Dictionary(36127 unique tokens: ['alone', 'announcements', 'around', 'available', 'bracelet']...)\n"
     ]
    }
   ],
   "source": [
    "from gensim import corpora\n",
    "dictionary = corpora.Dictionary(texts)\n",
    "dictionary.save(os.path.join(TEMP_FOLDER, 'necklaces.dict'))  # store the dictionary, for future reference\n",
    "print(dictionary)"
   ]
  },
  {
   "cell_type": "code",
   "execution_count": 22,
   "metadata": {},
   "outputs": [
    {
     "name": "stderr",
     "output_type": "stream",
     "text": [
      "2019-01-28 11:10:43,143 : INFO : storing corpus in Matrix Market format to ~/code/insight/etsy/etsyitems/nlp/necklaces.mm\n",
      "2019-01-28 11:10:43,144 : INFO : saving sparse matrix to ~/code/insight/etsy/etsyitems/nlp/necklaces.mm\n",
      "2019-01-28 11:10:43,145 : INFO : PROGRESS: saving document #0\n",
      "2019-01-28 11:10:43,300 : INFO : PROGRESS: saving document #1000\n",
      "2019-01-28 11:10:43,440 : INFO : PROGRESS: saving document #2000\n",
      "2019-01-28 11:10:43,583 : INFO : PROGRESS: saving document #3000\n",
      "2019-01-28 11:10:43,722 : INFO : PROGRESS: saving document #4000\n",
      "2019-01-28 11:10:43,866 : INFO : PROGRESS: saving document #5000\n",
      "2019-01-28 11:10:44,007 : INFO : PROGRESS: saving document #6000\n",
      "2019-01-28 11:10:44,039 : INFO : saved 6192x36127 matrix, density=0.251% (561046/223698384)\n",
      "2019-01-28 11:10:44,040 : INFO : saving MmCorpus index to ~/code/insight/etsy/etsyitems/nlp/necklaces.mm.index\n"
     ]
    }
   ],
   "source": [
    "corpus = [dictionary.doc2bow(text) for text in texts]\n",
    "corpora.MmCorpus.serialize(os.path.join(TEMP_FOLDER, 'necklaces.mm'), corpus)"
   ]
  },
  {
   "cell_type": "code",
   "execution_count": 23,
   "metadata": {},
   "outputs": [
    {
     "name": "stderr",
     "output_type": "stream",
     "text": [
      "2019-01-28 11:11:06,808 : INFO : collecting document frequencies\n",
      "2019-01-28 11:11:06,809 : INFO : PROGRESS: processing document #0\n",
      "2019-01-28 11:11:06,979 : INFO : calculating IDF weights for 6192 documents and 36126 features (561046 matrix non-zeros)\n",
      "2019-01-28 11:11:07,091 : INFO : saving TfidfModel object under ~/code/insight/etsy/etsyitems/nlp/necklacesmodel.tfidf, separately None\n",
      "2019-01-28 11:11:07,282 : INFO : saved ~/code/insight/etsy/etsyitems/nlp/necklacesmodel.tfidf\n"
     ]
    }
   ],
   "source": [
    "from gensim import models\n",
    "tfidf = models.TfidfModel(corpus) # step 1 -- initialize a model\n",
    "tfidf.save(os.path.join(TEMP_FOLDER, 'necklacesmodel.tfidf'))"
   ]
  },
  {
   "cell_type": "code",
   "execution_count": 26,
   "metadata": {
    "scrolled": true
   },
   "outputs": [
    {
     "name": "stderr",
     "output_type": "stream",
     "text": [
      "2019-01-28 11:14:24,102 : WARNING : scanning corpus to determine the number of features (consider setting `num_features` explicitly)\n",
      "2019-01-28 11:14:27,637 : INFO : creating matrix with 6192 documents and 36127 features\n"
     ]
    }
   ],
   "source": [
    "from gensim import similarities\n",
    "index = similarities.MatrixSimilarity(tfidf[corpus]) # transform corpus to Tfidf space and index it"
   ]
  },
  {
   "cell_type": "code",
   "execution_count": 29,
   "metadata": {},
   "outputs": [
    {
     "name": "stderr",
     "output_type": "stream",
     "text": [
      "2019-01-28 11:21:11,838 : INFO : saving MatrixSimilarity object under /home/eli/code/insight/etsy/etsyitems/nlp/necklacestfidfsim.index, separately None\n",
      "2019-01-28 11:21:11,840 : INFO : storing np array 'index' to /home/eli/code/insight/etsy/etsyitems/nlp/necklacestfidfsim.index.index.npy\n",
      "2019-01-28 11:21:22,631 : INFO : saved /home/eli/code/insight/etsy/etsyitems/nlp/necklacestfidfsim.index\n"
     ]
    }
   ],
   "source": [
    "index.save(os.path.join(TEMP_FOLDER, 'necklacestfidfsim.index'))"
   ]
  },
  {
   "cell_type": "code",
   "execution_count": 30,
   "metadata": {},
   "outputs": [],
   "source": [
    "docs_test = [text.split() for text in X_test]"
   ]
  },
  {
   "cell_type": "code",
   "execution_count": 33,
   "metadata": {},
   "outputs": [
    {
     "name": "stderr",
     "output_type": "stream",
     "text": [
      "2019-01-28 11:29:28,504 : INFO : storing corpus in Matrix Market format to /home/eli/code/insight/etsy/etsyitems/nlp/necklaces-test.mm\n",
      "2019-01-28 11:29:28,505 : INFO : saving sparse matrix to /home/eli/code/insight/etsy/etsyitems/nlp/necklaces-test.mm\n",
      "2019-01-28 11:29:28,508 : INFO : PROGRESS: saving document #0\n",
      "2019-01-28 11:29:28,646 : INFO : PROGRESS: saving document #1000\n",
      "2019-01-28 11:29:28,794 : INFO : PROGRESS: saving document #2000\n",
      "2019-01-28 11:29:28,803 : INFO : saved 2065x36127 matrix, density=0.235% (175141/74602255)\n",
      "2019-01-28 11:29:28,805 : INFO : saving MmCorpus index to /home/eli/code/insight/etsy/etsyitems/nlp/necklaces-test.mm.index\n"
     ]
    }
   ],
   "source": [
    "corpus_test = [dictionary.doc2bow(text) for text in docs_test]\n",
    "corpora.MmCorpus.serialize(os.path.join(TEMP_FOLDER, 'necklaces-test.mm'), corpus_test)"
   ]
  },
  {
   "cell_type": "code",
   "execution_count": 58,
   "metadata": {},
   "outputs": [],
   "source": [
    "import re\n",
    "from collections import Counter\n",
    "\n",
    "def viterbi_segment(text):\n",
    "    probs, lasts = [1.0], [0]\n",
    "    for i in range(1, len(text) + 1):\n",
    "        #(log(1/total)-max_word_len-1)*(j-i) \n",
    "        prob_k, k = max((probs[j] * word_prob(text[j:i]), j)\n",
    "                        for j in range(max(0, i - max_word_length), i))\n",
    "        probs.append(prob_k)\n",
    "        lasts.append(k)\n",
    "    words = []\n",
    "    i = len(text)\n",
    "    while 0 < i:\n",
    "        words.append(text[lasts[i]:i])\n",
    "        i = lasts[i]\n",
    "    words.reverse()\n",
    "    return words, probs[-1]\n",
    "\n",
    "def word_prob(word): return dictionary_US[word] / total\n",
    "def words(text): return re.findall('[a-z]+', text.lower()) \n",
    "dictionary_US = Counter(words(open('/home/eli/Downloads/big.txt').read()))\n",
    "max_word_length = max(map(len, dictionary_US))\n",
    "total = float(sum(dictionary_US.values()))"
   ]
  },
  {
   "cell_type": "code",
   "execution_count": 62,
   "metadata": {},
   "outputs": [],
   "source": [
    "with open('/usr/share/dict/american-english') as fdict:\n",
    "    US_dict = fdict.readlines()\n",
    "# you may also want to remove whitespace characters like `\\n` at the end of each line\n",
    "US_dict = [x.strip() for x in US_dict] "
   ]
  },
  {
   "cell_type": "code",
   "execution_count": 66,
   "metadata": {},
   "outputs": [
    {
     "data": {
      "text/plain": [
       "False"
      ]
     },
     "execution_count": 66,
     "metadata": {},
     "output_type": "execute_result"
    }
   ],
   "source": [
    "'necklac' in US_dict"
   ]
  },
  {
   "cell_type": "code",
   "execution_count": 32,
   "metadata": {},
   "outputs": [],
   "source": [
    "def vec_normalize(vec):\n",
    "    return vec/np.sqrt(np.sum(np.square(vec)))\n",
    "\n",
    "assert(np.array_equal(vec_normalize([1,0]),[1,0]))\n",
    "#vec_normalize([1,1])"
   ]
  },
  {
   "cell_type": "code",
   "execution_count": null,
   "metadata": {},
   "outputs": [],
   "source": [
    "%%time\n",
    "knn=10\n",
    "y_pred = np.zeros(len(testvecs))\n",
    "for i in range(len(testvecs[:1])):\n",
    "    sims = sorted(enumerate(index[vec]), key=lambda item: -item[1])[:knn]\n",
    "    y_pred[i] = np.average([y_train[k] for (k,v) in sims], weights=np.square(vec_normalize([v for (k,v) in sims])))"
   ]
  },
  {
   "cell_type": "code",
   "execution_count": 40,
   "metadata": {},
   "outputs": [],
   "source": []
  },
  {
   "cell_type": "code",
   "execution_count": 46,
   "metadata": {},
   "outputs": [
    {
     "data": {
      "text/plain": [
       "(6192, 36127)"
      ]
     },
     "execution_count": 46,
     "metadata": {},
     "output_type": "execute_result"
    }
   ],
   "source": [
    "import gensim\n",
    "trainvecs = tfidf[corpus]\n",
    "trainvecs = gensim.matutils.corpus2csc(trainvecs)\n",
    "trainvecs.T.toarray().shape"
   ]
  },
  {
   "cell_type": "code",
   "execution_count": 55,
   "metadata": {},
   "outputs": [
    {
     "data": {
      "text/plain": [
       "array([  48.  , 2277.77,   54.  , ...,   78.  ,  695.  ,   25.35])"
      ]
     },
     "execution_count": 55,
     "metadata": {},
     "output_type": "execute_result"
    }
   ],
   "source": [
    "y_train"
   ]
  },
  {
   "cell_type": "code",
   "execution_count": 53,
   "metadata": {},
   "outputs": [
    {
     "data": {
      "text/plain": [
       "(2065, 36127)"
      ]
     },
     "execution_count": 53,
     "metadata": {},
     "output_type": "execute_result"
    }
   ],
   "source": [
    "testvecs = [tfidf[dictionary.doc2bow(doc)] for doc in docs_test]\n",
    "testvecs = gensim.matutils.corpus2csc(testvecs)\n",
    "testvecs.T.toarray().shape"
   ]
  },
  {
   "cell_type": "code",
   "execution_count": 54,
   "metadata": {},
   "outputs": [
    {
     "ename": "ValueError",
     "evalue": "Found input variables with inconsistent numbers of samples: [36127, 6192]",
     "output_type": "error",
     "traceback": [
      "\u001b[0;31m---------------------------------------------------------------------------\u001b[0m",
      "\u001b[0;31mValueError\u001b[0m                                Traceback (most recent call last)",
      "\u001b[0;32m<ipython-input-54-dc0f3218f267>\u001b[0m in \u001b[0;36m<module>\u001b[0;34m\u001b[0m\n\u001b[1;32m      4\u001b[0m \u001b[0;34m\u001b[0m\u001b[0m\n\u001b[1;32m      5\u001b[0m \u001b[0mknn\u001b[0m \u001b[0;34m=\u001b[0m \u001b[0mneighbors\u001b[0m\u001b[0;34m.\u001b[0m\u001b[0mKNeighborsRegressor\u001b[0m\u001b[0;34m(\u001b[0m\u001b[0mn_neighbors\u001b[0m\u001b[0;34m,\u001b[0m \u001b[0mweights\u001b[0m\u001b[0;34m=\u001b[0m\u001b[0;34m'distance'\u001b[0m\u001b[0;34m)\u001b[0m\u001b[0;34m\u001b[0m\u001b[0;34m\u001b[0m\u001b[0m\n\u001b[0;32m----> 6\u001b[0;31m \u001b[0my_\u001b[0m \u001b[0;34m=\u001b[0m \u001b[0mknn\u001b[0m\u001b[0;34m.\u001b[0m\u001b[0mfit\u001b[0m\u001b[0;34m(\u001b[0m\u001b[0mtrainvecs\u001b[0m\u001b[0;34m,\u001b[0m \u001b[0my_train\u001b[0m\u001b[0;34m)\u001b[0m\u001b[0;34m.\u001b[0m\u001b[0mpredict\u001b[0m\u001b[0;34m(\u001b[0m\u001b[0mtestvecs\u001b[0m\u001b[0;34m)\u001b[0m\u001b[0;34m\u001b[0m\u001b[0;34m\u001b[0m\u001b[0m\n\u001b[0m",
      "\u001b[0;32m~/anaconda3/envs/etsyapp/lib/python3.6/site-packages/sklearn/neighbors/base.py\u001b[0m in \u001b[0;36mfit\u001b[0;34m(self, X, y)\u001b[0m\n\u001b[1;32m    869\u001b[0m         \"\"\"\n\u001b[1;32m    870\u001b[0m         \u001b[0;32mif\u001b[0m \u001b[0;32mnot\u001b[0m \u001b[0misinstance\u001b[0m\u001b[0;34m(\u001b[0m\u001b[0mX\u001b[0m\u001b[0;34m,\u001b[0m \u001b[0;34m(\u001b[0m\u001b[0mKDTree\u001b[0m\u001b[0;34m,\u001b[0m \u001b[0mBallTree\u001b[0m\u001b[0;34m)\u001b[0m\u001b[0;34m)\u001b[0m\u001b[0;34m:\u001b[0m\u001b[0;34m\u001b[0m\u001b[0;34m\u001b[0m\u001b[0m\n\u001b[0;32m--> 871\u001b[0;31m             \u001b[0mX\u001b[0m\u001b[0;34m,\u001b[0m \u001b[0my\u001b[0m \u001b[0;34m=\u001b[0m \u001b[0mcheck_X_y\u001b[0m\u001b[0;34m(\u001b[0m\u001b[0mX\u001b[0m\u001b[0;34m,\u001b[0m \u001b[0my\u001b[0m\u001b[0;34m,\u001b[0m \u001b[0;34m\"csr\"\u001b[0m\u001b[0;34m,\u001b[0m \u001b[0mmulti_output\u001b[0m\u001b[0;34m=\u001b[0m\u001b[0;32mTrue\u001b[0m\u001b[0;34m)\u001b[0m\u001b[0;34m\u001b[0m\u001b[0;34m\u001b[0m\u001b[0m\n\u001b[0m\u001b[1;32m    872\u001b[0m         \u001b[0mself\u001b[0m\u001b[0;34m.\u001b[0m\u001b[0m_y\u001b[0m \u001b[0;34m=\u001b[0m \u001b[0my\u001b[0m\u001b[0;34m\u001b[0m\u001b[0;34m\u001b[0m\u001b[0m\n\u001b[1;32m    873\u001b[0m         \u001b[0;32mreturn\u001b[0m \u001b[0mself\u001b[0m\u001b[0;34m.\u001b[0m\u001b[0m_fit\u001b[0m\u001b[0;34m(\u001b[0m\u001b[0mX\u001b[0m\u001b[0;34m)\u001b[0m\u001b[0;34m\u001b[0m\u001b[0;34m\u001b[0m\u001b[0m\n",
      "\u001b[0;32m~/anaconda3/envs/etsyapp/lib/python3.6/site-packages/sklearn/utils/validation.py\u001b[0m in \u001b[0;36mcheck_X_y\u001b[0;34m(X, y, accept_sparse, accept_large_sparse, dtype, order, copy, force_all_finite, ensure_2d, allow_nd, multi_output, ensure_min_samples, ensure_min_features, y_numeric, warn_on_dtype, estimator)\u001b[0m\n\u001b[1;32m    764\u001b[0m         \u001b[0my\u001b[0m \u001b[0;34m=\u001b[0m \u001b[0my\u001b[0m\u001b[0;34m.\u001b[0m\u001b[0mastype\u001b[0m\u001b[0;34m(\u001b[0m\u001b[0mnp\u001b[0m\u001b[0;34m.\u001b[0m\u001b[0mfloat64\u001b[0m\u001b[0;34m)\u001b[0m\u001b[0;34m\u001b[0m\u001b[0;34m\u001b[0m\u001b[0m\n\u001b[1;32m    765\u001b[0m \u001b[0;34m\u001b[0m\u001b[0m\n\u001b[0;32m--> 766\u001b[0;31m     \u001b[0mcheck_consistent_length\u001b[0m\u001b[0;34m(\u001b[0m\u001b[0mX\u001b[0m\u001b[0;34m,\u001b[0m \u001b[0my\u001b[0m\u001b[0;34m)\u001b[0m\u001b[0;34m\u001b[0m\u001b[0;34m\u001b[0m\u001b[0m\n\u001b[0m\u001b[1;32m    767\u001b[0m \u001b[0;34m\u001b[0m\u001b[0m\n\u001b[1;32m    768\u001b[0m     \u001b[0;32mreturn\u001b[0m \u001b[0mX\u001b[0m\u001b[0;34m,\u001b[0m \u001b[0my\u001b[0m\u001b[0;34m\u001b[0m\u001b[0;34m\u001b[0m\u001b[0m\n",
      "\u001b[0;32m~/anaconda3/envs/etsyapp/lib/python3.6/site-packages/sklearn/utils/validation.py\u001b[0m in \u001b[0;36mcheck_consistent_length\u001b[0;34m(*arrays)\u001b[0m\n\u001b[1;32m    233\u001b[0m     \u001b[0;32mif\u001b[0m \u001b[0mlen\u001b[0m\u001b[0;34m(\u001b[0m\u001b[0muniques\u001b[0m\u001b[0;34m)\u001b[0m \u001b[0;34m>\u001b[0m \u001b[0;36m1\u001b[0m\u001b[0;34m:\u001b[0m\u001b[0;34m\u001b[0m\u001b[0;34m\u001b[0m\u001b[0m\n\u001b[1;32m    234\u001b[0m         raise ValueError(\"Found input variables with inconsistent numbers of\"\n\u001b[0;32m--> 235\u001b[0;31m                          \" samples: %r\" % [int(l) for l in lengths])\n\u001b[0m\u001b[1;32m    236\u001b[0m \u001b[0;34m\u001b[0m\u001b[0m\n\u001b[1;32m    237\u001b[0m \u001b[0;34m\u001b[0m\u001b[0m\n",
      "\u001b[0;31mValueError\u001b[0m: Found input variables with inconsistent numbers of samples: [36127, 6192]"
     ]
    }
   ],
   "source": [
    "from sklearn import neighbors\n",
    "n_neighbors = 10\n",
    "\n",
    "\n",
    "knn = neighbors.KNeighborsRegressor(n_neighbors, weights='distance')\n",
    "y_ = knn.fit(trainvecs, y_train).predict(testvecs)\n"
   ]
  },
  {
   "cell_type": "code",
   "execution_count": null,
   "metadata": {},
   "outputs": [],
   "source": []
  },
  {
   "cell_type": "code",
   "execution_count": null,
   "metadata": {},
   "outputs": [],
   "source": []
  },
  {
   "cell_type": "code",
   "execution_count": null,
   "metadata": {},
   "outputs": [],
   "source": []
  },
  {
   "cell_type": "code",
   "execution_count": null,
   "metadata": {},
   "outputs": [],
   "source": []
  },
  {
   "cell_type": "code",
   "execution_count": null,
   "metadata": {},
   "outputs": [],
   "source": []
  },
  {
   "cell_type": "code",
   "execution_count": null,
   "metadata": {},
   "outputs": [],
   "source": [
    "sorted(enumerate(index[testvecs[0]]), key=lambda item: -item[1])[:5]"
   ]
  },
  {
   "cell_type": "code",
   "execution_count": null,
   "metadata": {},
   "outputs": [],
   "source": [
    "np.square(vec_normalize([v for (k,v) in sorted(enumerate(index[testvecs[0]]), key=lambda item: -item[1])[:5]]))"
   ]
  },
  {
   "cell_type": "code",
   "execution_count": null,
   "metadata": {},
   "outputs": [],
   "source": [
    "from sqlalchemy import create_engine\n",
    "from sqlalchemy_utils import database_exists, create_database\n",
    "import psycopg2\n",
    "\n",
    "# Define a database name (we're using a dataset on births, so we'll call it birth_db)\n",
    "# Set your postgres username/password, and connection specifics\n",
    "username = 'eli'\n",
    "password = 'elipgsql'     # change this\n",
    "host     = 'localhost'\n",
    "port     = '5432'            # default port that postgres listens on\n",
    "db_name  = 'necklaces_train'\n",
    "\n",
    "## 'engine' is a connection to a database\n",
    "## Here, we're using postgres, but sqlalchemy can connect to other things too.\n",
    "engine = create_engine( 'postgresql://{}:{}@{}:{}/{}'.format(username, password, host, port, db_name) )\n",
    "print(engine.url)"
   ]
  },
  {
   "cell_type": "code",
   "execution_count": null,
   "metadata": {},
   "outputs": [],
   "source": [
    "## create a database (if it doesn't exist)\n",
    "if not database_exists(engine.url):\n",
    "    create_database(engine.url)\n",
    "print(database_exists(engine.url))"
   ]
  },
  {
   "cell_type": "code",
   "execution_count": null,
   "metadata": {},
   "outputs": [],
   "source": [
    "traindf = pd.DataFrame({'desc' : X_train, 'price' : y_train})"
   ]
  },
  {
   "cell_type": "code",
   "execution_count": null,
   "metadata": {},
   "outputs": [],
   "source": [
    "len(X_train)"
   ]
  },
  {
   "cell_type": "code",
   "execution_count": null,
   "metadata": {},
   "outputs": [],
   "source": [
    "len(traindf)"
   ]
  },
  {
   "cell_type": "code",
   "execution_count": null,
   "metadata": {},
   "outputs": [],
   "source": [
    "traindf.to_sql('necklaces_train',engine, if_exists='replace')"
   ]
  },
  {
   "cell_type": "code",
   "execution_count": 80,
   "metadata": {},
   "outputs": [],
   "source": [
    "import psycopg2"
   ]
  },
  {
   "cell_type": "code",
   "execution_count": 82,
   "metadata": {},
   "outputs": [],
   "source": [
    "db_name = 'necklaces_train'\n",
    "username = 'eli'"
   ]
  },
  {
   "cell_type": "code",
   "execution_count": 110,
   "metadata": {},
   "outputs": [],
   "source": [
    "sql_query = \"\"\"\n",
    "SELECT price FROM necklaces_train WHERE Index IN (%s) \n",
    "\"\"\" % items"
   ]
  },
  {
   "cell_type": "code",
   "execution_count": 111,
   "metadata": {},
   "outputs": [
    {
     "data": {
      "text/plain": [
       "'\\nSELECT price FROM necklaces_train WHERE Index IN (4707, 2595, 5091, 2230, 2886, 3381, 6190, 2818, 2659, 5978) \\n'"
      ]
     },
     "execution_count": 111,
     "metadata": {},
     "output_type": "execute_result"
    }
   ],
   "source": [
    "sql_query"
   ]
  },
  {
   "cell_type": "code",
   "execution_count": 172,
   "metadata": {},
   "outputs": [
    {
     "data": {
      "text/plain": [
       "10"
      ]
     },
     "execution_count": 172,
     "metadata": {},
     "output_type": "execute_result"
    }
   ],
   "source": [
    "# Connect to make queries using psycopg2\n",
    "con = None\n",
    "con = psycopg2.connect(database = db_name, host='/var/run/postgresql', user = username)\n",
    "\n",
    "# query:\n",
    "items = ', '.join(str(k) for k in l)\n",
    "\n",
    "sql_query = \"\"\"\n",
    "SELECT index, price FROM necklaces_train WHERE index IN (%s) \n",
    "\"\"\" % items\n",
    "traindata_from_sql = pd.read_sql_query(sql_query,con)\n",
    "len(traindata_from_sql)"
   ]
  },
  {
   "cell_type": "code",
   "execution_count": 173,
   "metadata": {},
   "outputs": [
    {
     "data": {
      "text/html": [
       "<div>\n",
       "<style scoped>\n",
       "    .dataframe tbody tr th:only-of-type {\n",
       "        vertical-align: middle;\n",
       "    }\n",
       "\n",
       "    .dataframe tbody tr th {\n",
       "        vertical-align: top;\n",
       "    }\n",
       "\n",
       "    .dataframe thead th {\n",
       "        text-align: right;\n",
       "    }\n",
       "</style>\n",
       "<table border=\"1\" class=\"dataframe\">\n",
       "  <thead>\n",
       "    <tr style=\"text-align: right;\">\n",
       "      <th></th>\n",
       "      <th>index</th>\n",
       "      <th>price</th>\n",
       "    </tr>\n",
       "  </thead>\n",
       "  <tbody>\n",
       "    <tr>\n",
       "      <th>0</th>\n",
       "      <td>2613</td>\n",
       "      <td>190.0</td>\n",
       "    </tr>\n",
       "    <tr>\n",
       "      <th>1</th>\n",
       "      <td>2802</td>\n",
       "      <td>195.0</td>\n",
       "    </tr>\n",
       "    <tr>\n",
       "      <th>2</th>\n",
       "      <td>4063</td>\n",
       "      <td>345.0</td>\n",
       "    </tr>\n",
       "    <tr>\n",
       "      <th>3</th>\n",
       "      <td>4146</td>\n",
       "      <td>465.0</td>\n",
       "    </tr>\n",
       "    <tr>\n",
       "      <th>4</th>\n",
       "      <td>4348</td>\n",
       "      <td>190.0</td>\n",
       "    </tr>\n",
       "    <tr>\n",
       "      <th>5</th>\n",
       "      <td>4397</td>\n",
       "      <td>545.0</td>\n",
       "    </tr>\n",
       "    <tr>\n",
       "      <th>6</th>\n",
       "      <td>4451</td>\n",
       "      <td>345.0</td>\n",
       "    </tr>\n",
       "    <tr>\n",
       "      <th>7</th>\n",
       "      <td>4882</td>\n",
       "      <td>299.0</td>\n",
       "    </tr>\n",
       "    <tr>\n",
       "      <th>8</th>\n",
       "      <td>5595</td>\n",
       "      <td>190.0</td>\n",
       "    </tr>\n",
       "    <tr>\n",
       "      <th>9</th>\n",
       "      <td>5644</td>\n",
       "      <td>324.0</td>\n",
       "    </tr>\n",
       "  </tbody>\n",
       "</table>\n",
       "</div>"
      ],
      "text/plain": [
       "   index  price\n",
       "0   2613  190.0\n",
       "1   2802  195.0\n",
       "2   4063  345.0\n",
       "3   4146  465.0\n",
       "4   4348  190.0\n",
       "5   4397  545.0\n",
       "6   4451  345.0\n",
       "7   4882  299.0\n",
       "8   5595  190.0\n",
       "9   5644  324.0"
      ]
     },
     "execution_count": 173,
     "metadata": {},
     "output_type": "execute_result"
    }
   ],
   "source": [
    "traindata_from_sql"
   ]
  },
  {
   "cell_type": "code",
   "execution_count": 174,
   "metadata": {},
   "outputs": [
    {
     "data": {
      "text/plain": [
       "[5644, 4146, 2802, 4397, 4882, 4063, 4451, 2613, 4348, 5595]"
      ]
     },
     "execution_count": 174,
     "metadata": {},
     "output_type": "execute_result"
    }
   ],
   "source": [
    "l"
   ]
  },
  {
   "cell_type": "code",
   "execution_count": 141,
   "metadata": {},
   "outputs": [
    {
     "data": {
      "text/plain": [
       "[(4707, 0.30933678),\n",
       " (2595, 0.1403069),\n",
       " (5091, 0.1403069),\n",
       " (2230, 0.09882733),\n",
       " (2886, 0.09367348),\n",
       " (3381, 0.08935348),\n",
       " (6190, 0.08868384),\n",
       " (2818, 0.07842557),\n",
       " (2659, 0.076600604),\n",
       " (5978, 0.076600604)]"
      ]
     },
     "execution_count": 141,
     "metadata": {},
     "output_type": "execute_result"
    }
   ],
   "source": [
    "sims"
   ]
  },
  {
   "cell_type": "code",
   "execution_count": 175,
   "metadata": {},
   "outputs": [],
   "source": [
    "weights = np.square(vec_normalize([v for (k,v) in sims]))"
   ]
  },
  {
   "cell_type": "code",
   "execution_count": 147,
   "metadata": {},
   "outputs": [
    {
     "data": {
      "text/html": [
       "<div>\n",
       "<style scoped>\n",
       "    .dataframe tbody tr th:only-of-type {\n",
       "        vertical-align: middle;\n",
       "    }\n",
       "\n",
       "    .dataframe tbody tr th {\n",
       "        vertical-align: top;\n",
       "    }\n",
       "\n",
       "    .dataframe thead th {\n",
       "        text-align: right;\n",
       "    }\n",
       "</style>\n",
       "<table border=\"1\" class=\"dataframe\">\n",
       "  <thead>\n",
       "    <tr style=\"text-align: right;\">\n",
       "      <th></th>\n",
       "      <th>index</th>\n",
       "      <th>price</th>\n",
       "    </tr>\n",
       "  </thead>\n",
       "  <tbody>\n",
       "    <tr>\n",
       "      <th>0</th>\n",
       "      <td>2230</td>\n",
       "      <td>147.99</td>\n",
       "    </tr>\n",
       "    <tr>\n",
       "      <th>1</th>\n",
       "      <td>2595</td>\n",
       "      <td>2994.95</td>\n",
       "    </tr>\n",
       "    <tr>\n",
       "      <th>2</th>\n",
       "      <td>2659</td>\n",
       "      <td>16.00</td>\n",
       "    </tr>\n",
       "    <tr>\n",
       "      <th>3</th>\n",
       "      <td>2818</td>\n",
       "      <td>230.00</td>\n",
       "    </tr>\n",
       "    <tr>\n",
       "      <th>4</th>\n",
       "      <td>2886</td>\n",
       "      <td>145.00</td>\n",
       "    </tr>\n",
       "  </tbody>\n",
       "</table>\n",
       "</div>"
      ],
      "text/plain": [
       "   index    price\n",
       "0   2230   147.99\n",
       "1   2595  2994.95\n",
       "2   2659    16.00\n",
       "3   2818   230.00\n",
       "4   2886   145.00"
      ]
     },
     "execution_count": 147,
     "metadata": {},
     "output_type": "execute_result"
    }
   ],
   "source": [
    "traindata_from_sql.head()"
   ]
  },
  {
   "cell_type": "code",
   "execution_count": 161,
   "metadata": {},
   "outputs": [
    {
     "data": {
      "text/plain": [
       "[(4707, 0.510785),\n",
       " (2595, 0.10508315),\n",
       " (5091, 0.10508315),\n",
       " (2230, 0.052134976),\n",
       " (2886, 0.046839077),\n",
       " (3381, 0.042618483),\n",
       " (6190, 0.041982092),\n",
       " (2818, 0.032831475),\n",
       " (2659, 0.031321272),\n",
       " (5978, 0.031321272)]"
      ]
     },
     "execution_count": 161,
     "metadata": {},
     "output_type": "execute_result"
    }
   ],
   "source": [
    "weightindexer for k in traindata_from_sql['index']"
   ]
  },
  {
   "cell_type": "code",
   "execution_count": 177,
   "metadata": {},
   "outputs": [
    {
     "data": {
      "text/plain": [
       "319.63284377113126"
      ]
     },
     "execution_count": 177,
     "metadata": {},
     "output_type": "execute_result"
    }
   ],
   "source": [
    "np.average([traindata_from_sql.loc[traindata_from_sql['index']==k, 'price'].values[0] for (k,v) in weightindexer],weights=[v for (k,v) in weightindexer])"
   ]
  },
  {
   "cell_type": "code",
   "execution_count": null,
   "metadata": {},
   "outputs": [],
   "source": [
    "np.average([traindata_from_sql[traindata_from_sql['index']==k, 'price'] for (k,v) in sims], weights=np.square(vec_normalize([v for (k,v) in sims])))"
   ]
  },
  {
   "cell_type": "code",
   "execution_count": 176,
   "metadata": {},
   "outputs": [],
   "source": [
    "weightindexer = list(zip([k for (k,v) in sims],weights))"
   ]
  },
  {
   "cell_type": "code",
   "execution_count": null,
   "metadata": {},
   "outputs": [],
   "source": []
  },
  {
   "cell_type": "code",
   "execution_count": 117,
   "metadata": {},
   "outputs": [
    {
     "data": {
      "text/plain": [
       "1468.686737082253"
      ]
     },
     "execution_count": 117,
     "metadata": {},
     "output_type": "execute_result"
    }
   ],
   "source": [
    "np.average(traindata_from_sql['price'].values,weights=np.square(vec_normalize([v for (k,v) in sims])))"
   ]
  },
  {
   "cell_type": "code",
   "execution_count": 180,
   "metadata": {},
   "outputs": [
    {
     "name": "stdout",
     "output_type": "stream",
     "text": [
      "CPU times: user 140 ms, sys: 0 ns, total: 140 ms\n",
      "Wall time: 69.9 ms\n"
     ]
    }
   ],
   "source": [
    "%%time\n",
    "knn=10\n",
    "y_pred = np.zeros(len(testvecs))\n",
    "for i in range(len(testvecs[:1])):\n",
    "    sims = sorted(enumerate(index[vec]), key=lambda item: -item[1])[:knn]\n",
    "    y_pred[i] = np.average([y_train[k] for (k,v) in sims], weights=np.square(vec_normalize([v for (k,v) in sims])))"
   ]
  },
  {
   "cell_type": "code",
   "execution_count": 182,
   "metadata": {},
   "outputs": [
    {
     "data": {
      "text/plain": [
       "array([74.50098364,  0.        ,  0.        , ...,  0.        ,\n",
       "        0.        ,  0.        ])"
      ]
     },
     "execution_count": 182,
     "metadata": {},
     "output_type": "execute_result"
    }
   ],
   "source": [
    "y_pred"
   ]
  },
  {
   "cell_type": "code",
   "execution_count": 170,
   "metadata": {},
   "outputs": [],
   "source": [
    "l = [k for (k,v) in sorted(enumerate(index[trainvecs[56]]), key=lambda item: -item[1])[1:knn+1]]"
   ]
  },
  {
   "cell_type": "code",
   "execution_count": 171,
   "metadata": {},
   "outputs": [
    {
     "data": {
      "text/plain": [
       "[5644, 4146, 2802, 4397, 4882, 4063, 4451, 2613, 4348, 5595]"
      ]
     },
     "execution_count": 171,
     "metadata": {},
     "output_type": "execute_result"
    }
   ],
   "source": [
    "l"
   ]
  },
  {
   "cell_type": "code",
   "execution_count": 102,
   "metadata": {},
   "outputs": [
    {
     "data": {
      "text/plain": [
       "'SELECT name FROM students WHERE id IN (4707, 2595, 5091, 2230, 2886, 3381, 6190, 2818, 2659, 5978)'"
      ]
     },
     "execution_count": 102,
     "metadata": {},
     "output_type": "execute_result"
    }
   ],
   "source": [
    "\n",
    "placeholder= '?' # For SQLite. See DBAPI paramstyle.\n",
    "items = ', '.join(str(k) for k in l)\n",
    "'SELECT name FROM students WHERE id IN (%s)' % items"
   ]
  },
  {
   "cell_type": "code",
   "execution_count": 178,
   "metadata": {},
   "outputs": [],
   "source": [
    "text = 'gold necklace'\n",
    "doc = text.split()\n",
    "vec = tfidf[dictionary.doc2bow(doc)]"
   ]
  },
  {
   "cell_type": "code",
   "execution_count": 179,
   "metadata": {},
   "outputs": [],
   "source": [
    "sims = sorted(enumerate(index[vec]), key=lambda item: -item[1])[:knn]"
   ]
  },
  {
   "cell_type": "code",
   "execution_count": null,
   "metadata": {},
   "outputs": [],
   "source": []
  },
  {
   "cell_type": "code",
   "execution_count": null,
   "metadata": {},
   "outputs": [],
   "source": []
  },
  {
   "cell_type": "code",
   "execution_count": 60,
   "metadata": {},
   "outputs": [],
   "source": [
    "trainvecs = tfidf[corpus]"
   ]
  },
  {
   "cell_type": "code",
   "execution_count": 168,
   "metadata": {},
   "outputs": [
    {
     "name": "stdout",
     "output_type": "stream",
     "text": [
      "[(5644, 1.0), (4146, 0.6819855), (2802, 0.54656833), (4397, 0.54495716), (4882, 0.5449512), (4063, 0.53976053), (4451, 0.53976053), (2613, 0.53262985), (4348, 0.53262985), (5595, 0.53262985)]\n",
      "CPU times: user 388 ms, sys: 72 ms, total: 460 ms\n",
      "Wall time: 3.93 s\n"
     ]
    }
   ],
   "source": [
    "%%time\n",
    "knn = 10\n",
    "y_fit = np.zeros(len(y_train))\n",
    "trainvecs = tfidf[corpus]\n",
    "for i in range(len(trainvecs[:1])):\n",
    "    sims = sorted(enumerate(index[]), key=lambda item: -item[1])[1:knn+1]\n",
    "    print(list(sims))\n",
    "    y_fit[i] = np.average([y_train[k] for (k,v) in sims], weights=np.square(vec_normalize([v for (k,v) in sims])))"
   ]
  },
  {
   "cell_type": "code",
   "execution_count": 130,
   "metadata": {},
   "outputs": [
    {
     "data": {
      "text/plain": [
       "[2176.55, 2994.95, 2994.95, 147.99, 145.0, 130.0, 695.0, 230.0, 16.0, 16.0]"
      ]
     },
     "execution_count": 130,
     "metadata": {},
     "output_type": "execute_result"
    }
   ],
   "source": [
    "[y_train[k] for (k,v) in sims]"
   ]
  },
  {
   "cell_type": "code",
   "execution_count": 133,
   "metadata": {},
   "outputs": [
    {
     "data": {
      "text/plain": [
       "array([0.510785  , 0.10508315, 0.10508315, 0.05213498, 0.04683908,\n",
       "       0.04261848, 0.04198209, 0.03283148, 0.03132127, 0.03132127],\n",
       "      dtype=float32)"
      ]
     },
     "execution_count": 133,
     "metadata": {},
     "output_type": "execute_result"
    }
   ],
   "source": [
    "np.square(vec_normalize([v for (k,v) in sims]))"
   ]
  },
  {
   "cell_type": "code",
   "execution_count": 131,
   "metadata": {},
   "outputs": [
    {
     "data": {
      "text/plain": [
       "array([ 147.99, 2994.95,   16.  ,  230.  ,  145.  ,  130.  , 2176.55,\n",
       "       2994.95,   16.  ,  695.  ])"
      ]
     },
     "execution_count": 131,
     "metadata": {},
     "output_type": "execute_result"
    }
   ],
   "source": [
    "traindata_from_sql['price'].values"
   ]
  },
  {
   "cell_type": "code",
   "execution_count": 169,
   "metadata": {},
   "outputs": [
    {
     "data": {
      "text/plain": [
       "array([319.63284377,   0.        ,   0.        , ...,   0.        ,\n",
       "         0.        ,   0.        ])"
      ]
     },
     "execution_count": 169,
     "metadata": {},
     "output_type": "execute_result"
    }
   ],
   "source": [
    "y_fit"
   ]
  },
  {
   "cell_type": "code",
   "execution_count": 71,
   "metadata": {},
   "outputs": [],
   "source": [
    "resid = y_fit[~np.isnan(y_fit)]-y_train[~np.isnan(y_fit)]"
   ]
  },
  {
   "cell_type": "code",
   "execution_count": 73,
   "metadata": {},
   "outputs": [
    {
     "data": {
      "text/plain": [
       "6190"
      ]
     },
     "execution_count": 73,
     "metadata": {},
     "output_type": "execute_result"
    }
   ],
   "source": [
    "len(resid)"
   ]
  },
  {
   "cell_type": "code",
   "execution_count": 75,
   "metadata": {},
   "outputs": [],
   "source": [
    "sstot = np.sum(np.square(y_train[~np.isnan(y_fit)]-np.mean(y_train[~np.isnan(y_fit)])))"
   ]
  },
  {
   "cell_type": "code",
   "execution_count": 74,
   "metadata": {},
   "outputs": [],
   "source": [
    "ssresid = np.sum(np.square(resid))"
   ]
  },
  {
   "cell_type": "code",
   "execution_count": 76,
   "metadata": {},
   "outputs": [
    {
     "data": {
      "text/plain": [
       "0.45097824251248175"
      ]
     },
     "execution_count": 76,
     "metadata": {},
     "output_type": "execute_result"
    }
   ],
   "source": [
    "r2 = 1-ssresid/sstot\n",
    "r2"
   ]
  },
  {
   "cell_type": "code",
   "execution_count": 77,
   "metadata": {},
   "outputs": [
    {
     "data": {
      "text/plain": [
       "311.17851372207684"
      ]
     },
     "execution_count": 77,
     "metadata": {},
     "output_type": "execute_result"
    }
   ],
   "source": [
    "rmse = np.sqrt(np.mean(np.square(resid)))\n",
    "rmse"
   ]
  },
  {
   "cell_type": "code",
   "execution_count": 34,
   "metadata": {},
   "outputs": [
    {
     "data": {
      "text/plain": [
       "(array([ 3200.,   520.,  5000.,  1000.,  4999.,  1100.,  1580.,  7485.,\n",
       "         7485.,   119., 25000.,  1885.,  1325.,  2500.]),\n",
       " array([6365.42976368, 1763.52996869,  122.86463197, 2215.38900991,\n",
       "         260.34977005, 2211.6671685 ,  413.5758831 ,  796.11269749,\n",
       "         796.11269749, 1807.92748544,  152.59292633,  229.71432799,\n",
       "          39.73430961,   43.5047984 ]))"
      ]
     },
     "execution_count": 34,
     "metadata": {},
     "output_type": "execute_result"
    }
   ],
   "source": [
    "(y_test[abs(resid)>1000], y_pred[abs(resid)>1000])"
   ]
  },
  {
   "cell_type": "code",
   "execution_count": null,
   "metadata": {},
   "outputs": [],
   "source": [
    "np.mean(test)"
   ]
  },
  {
   "cell_type": "code",
   "execution_count": 33,
   "metadata": {},
   "outputs": [
    {
     "data": {
      "text/plain": [
       "array([-3165.42976368, -1243.52996869,  4877.13536803, -1215.38900991,\n",
       "        4738.65022995, -1111.6671685 ,  1166.4241169 ,  6688.88730251,\n",
       "        6688.88730251, -1688.92748544, 24847.40707367,  1655.28567201,\n",
       "        1285.26569039,  2456.4952016 ])"
      ]
     },
     "execution_count": 33,
     "metadata": {},
     "output_type": "execute_result"
    }
   ],
   "source": [
    "resid[abs(resid)>1000]"
   ]
  },
  {
   "cell_type": "code",
   "execution_count": 30,
   "metadata": {},
   "outputs": [
    {
     "data": {
      "text/plain": [
       "<matplotlib.axes._subplots.AxesSubplot at 0x7fa4c92b3d68>"
      ]
     },
     "execution_count": 30,
     "metadata": {},
     "output_type": "execute_result"
    },
    {
     "data": {
      "image/png": "[encoded data removed]",
      "text/plain": [
       "<Figure size 720x1080 with 1 Axes>"
      ]
     },
     "metadata": {
      "needs_background": "light"
     },
     "output_type": "display_data"
    }
   ],
   "source": [
    "fig,ax = plt.subplots(figsize=(10,15))\n",
    "sns.scatterplot(x=y_pred, y=resid, ax=ax)"
   ]
  },
  {
   "cell_type": "code",
   "execution_count": null,
   "metadata": {},
   "outputs": [],
   "source": [
    "np.sort(np.square(y_test-y_pred))"
   ]
  },
  {
   "cell_type": "code",
   "execution_count": null,
   "metadata": {},
   "outputs": [],
   "source": [
    "np.median(y_test)"
   ]
  },
  {
   "cell_type": "code",
   "execution_count": null,
   "metadata": {},
   "outputs": [],
   "source": [
    "np.mean(y_test)"
   ]
  },
  {
   "cell_type": "code",
   "execution_count": null,
   "metadata": {},
   "outputs": [],
   "source": [
    "np.sqrt(np.mean(np.sort(np.square(y_test-y_pred))[:-100]))"
   ]
  },
  {
   "cell_type": "code",
   "execution_count": null,
   "metadata": {},
   "outputs": [],
   "source": [
    "y_test[:10]"
   ]
  },
  {
   "cell_type": "code",
   "execution_count": null,
   "metadata": {},
   "outputs": [],
   "source": [
    "y_train[k] for (k,v) in sorted(enumerate(index[testvecs[0]]), key=lambda item: -item[1])[:5]:\n"
   ]
  },
  {
   "cell_type": "code",
   "execution_count": null,
   "metadata": {},
   "outputs": [],
   "source": [
    "np.mean([y_train[k] for (k,v) in sorted(enumerate(index[testvecs[0]]), key=lambda item: -item[1])[:10]])"
   ]
  },
  {
   "cell_type": "code",
   "execution_count": null,
   "metadata": {},
   "outputs": [],
   "source": [
    "y_test[0]"
   ]
  },
  {
   "cell_type": "code",
   "execution_count": null,
   "metadata": {},
   "outputs": [],
   "source": [
    "[sorted(enumerate(index[vec]), key=lambda item: -item[1])[:5] for vec in testvecs[:3]]"
   ]
  },
  {
   "cell_type": "code",
   "execution_count": null,
   "metadata": {},
   "outputs": [],
   "source": [
    "sims = index[testvecs[0]]\n",
    "sims = sorted(enumerate(sims), key=lambda item: -item[1])\n",
    "print(sims[:10])"
   ]
  },
  {
   "cell_type": "code",
   "execution_count": null,
   "metadata": {},
   "outputs": [],
   "source": [
    "# remove words that appear only once\n",
    "from collections import defaultdict\n",
    "frequency = defaultdict(int)\n",
    "for text in X_train:\n",
    "    for token in text.split():\n",
    "        frequency[token] += 1\n",
    "\n",
    "texts = [[token for token in text.split() if frequency[token] > 1] for text in X_train]\n",
    "\n",
    "from pprint import pprint  # pretty-printer\n",
    "pprint(texts)"
   ]
  },
  {
   "cell_type": "code",
   "execution_count": null,
   "metadata": {},
   "outputs": [],
   "source": [
    "from nltk.probability import FreqDist"
   ]
  },
  {
   "cell_type": "code",
   "execution_count": null,
   "metadata": {},
   "outputs": [],
   "source": [
    "%%time\n",
    "fdist = FreqDist(word for word in ' '.join(usdf['desc'].values).split() if not word.isnumeric())"
   ]
  },
  {
   "cell_type": "code",
   "execution_count": null,
   "metadata": {},
   "outputs": [],
   "source": [
    "fdist.pprint(maxlen=20)"
   ]
  },
  {
   "cell_type": "code",
   "execution_count": null,
   "metadata": {},
   "outputs": [],
   "source": [
    "import re\n",
    "usdf['adesc'] = usdf['desc'].apply(lambda desc: ' '.join([x for x in desc.split() if not bool(re.search(r'\\d', x))]))"
   ]
  },
  {
   "cell_type": "code",
   "execution_count": null,
   "metadata": {},
   "outputs": [],
   "source": [
    "from sklearn.feature_extraction.text import TfidfVectorizer\n",
    "descs = usdf['adesc'].values"
   ]
  },
  {
   "cell_type": "code",
   "execution_count": null,
   "metadata": {},
   "outputs": [],
   "source": [
    "vectorizer = TfidfVectorizer()\n",
    "tfidf =  vectorizer.fit_transform(descs)\n",
    "feature_names = vectorizer.get_feature_names()\n",
    "denselist = tfidf.todense().tolist()"
   ]
  },
  {
   "cell_type": "code",
   "execution_count": null,
   "metadata": {},
   "outputs": [],
   "source": [
    "vectorizer.inverse_transform(tfidf)"
   ]
  },
  {
   "cell_type": "code",
   "execution_count": null,
   "metadata": {},
   "outputs": [],
   "source": [
    "usdf[usdf.price>100]"
   ]
  },
  {
   "cell_type": "code",
   "execution_count": null,
   "metadata": {},
   "outputs": [],
   "source": [
    "tfidffeatures = pd.DataFrame(denselist, columns=feature_names)"
   ]
  },
  {
   "cell_type": "code",
   "execution_count": null,
   "metadata": {},
   "outputs": [],
   "source": [
    "s = tfidffeatures.iloc[0]\n",
    "s[s>0].sort_values(ascending=False)[:10]"
   ]
  },
  {
   "cell_type": "code",
   "execution_count": null,
   "metadata": {},
   "outputs": [],
   "source": [
    "tfidf.shape"
   ]
  },
  {
   "cell_type": "code",
   "execution_count": null,
   "metadata": {},
   "outputs": [],
   "source": [
    "from sklearn.decomposition import TruncatedSVD\n",
    "\n",
    "X_reduced = TruncatedSVD(n_components=50, random_state=0).fit_transform(tfidf)"
   ]
  },
  {
   "cell_type": "code",
   "execution_count": null,
   "metadata": {},
   "outputs": [],
   "source": [
    "from sklearn.manifold import TSNE"
   ]
  },
  {
   "cell_type": "code",
   "execution_count": null,
   "metadata": {},
   "outputs": [],
   "source": [
    "%%time\n",
    "X_embedded = TSNE(n_components=2, perplexity=40, verbose=2).fit_transform(X_reduced)"
   ]
  },
  {
   "cell_type": "code",
   "execution_count": null,
   "metadata": {},
   "outputs": [],
   "source": [
    "fig, ax =plt.subplots(figsize=(10,5))\n",
    "ax.set_xlim(0,10000)\n",
    "usdf.price.hist(ax=ax, bins=50)"
   ]
  },
  {
   "cell_type": "code",
   "execution_count": null,
   "metadata": {},
   "outputs": [],
   "source": [
    "from matplotlib import cm\n",
    "from matplotlib import colors\n",
    "norm = cm.colors.Normalize(vmax=usdf.price.values.max(), vmin=usdf.price.values.min())\n",
    "cmap = cm.jet\n",
    "\n",
    "fig = plt.figure(figsize=(10, 10))\n",
    "ax = plt.axes(frameon=False)\n",
    "plt.setp(ax, xticks=(), yticks=())\n",
    "plt.subplots_adjust(left=0.0, bottom=0.0, right=1.0, top=0.9,\n",
    "                wspace=0.0, hspace=0.0)\n",
    "plt.scatter(X_embedded[:, 0], X_embedded[:, 1],\n",
    "        c=usdf.price.values, marker=\"x\", cmap=cmap, norm=norm)"
   ]
  },
  {
   "cell_type": "code",
   "execution_count": null,
   "metadata": {},
   "outputs": [],
   "source": [
    "from scipy.cluster import  hierarchy"
   ]
  },
  {
   "cell_type": "code",
   "execution_count": null,
   "metadata": {},
   "outputs": [],
   "source": [
    "#Clustering\n",
    "X = tfidf.todense()\n",
    "threshold = 0.1\n",
    "Z = hierarchy.linkage(X,\"average\", metric=\"cosine\")\n",
    "#Clustering\n",
    "maxclust = 20\n",
    "C = hierarchy.fcluster(Z, maxclust, criterion=\"maxclust\")\n",
    "#C = hierarchy.fcluster(Z, threshold, criterion=\"distance\")"
   ]
  },
  {
   "cell_type": "code",
   "execution_count": null,
   "metadata": {},
   "outputs": [],
   "source": [
    "len(C)"
   ]
  },
  {
   "cell_type": "code",
   "execution_count": null,
   "metadata": {},
   "outputs": [],
   "source": [
    "len(np.unique(C))"
   ]
  },
  {
   "cell_type": "code",
   "execution_count": null,
   "metadata": {},
   "outputs": [],
   "source": [
    "usdf['clusters'] = C\n",
    "usdf.head()"
   ]
  },
  {
   "cell_type": "code",
   "execution_count": 40,
   "metadata": {},
   "outputs": [],
   "source": [
    "from nltk import FreqDist"
   ]
  },
  {
   "cell_type": "code",
   "execution_count": 41,
   "metadata": {},
   "outputs": [
    {
     "name": "stdout",
     "output_type": "stream",
     "text": [
      "FreqDist({'gold': 7759, 'necklace': 7620, 'jewelry': 4075, 'please': 4020, 'pendant': 3700, 'silver': 3277, 'chain': 3251, 'diamond': 3101, 'gift': 2800, 'made': 2740, 'shipping': 2401, 'sterling': 2172, 'order': 2116, 'us': 2050, 'item': 1860, 'solid': 1857, 'days': 1805, 'piece': 1786, 'free': 1767, 'white': 1715, ...})\n"
     ]
    }
   ],
   "source": [
    "fdist_hiprice = FreqDist(word for word in ' '.join(usdf[usdf['price']>100]['adesc'].values).split() if not word.isnumeric())\n",
    "fdist_hiprice.pprint(maxlen=20)"
   ]
  },
  {
   "cell_type": "code",
   "execution_count": 52,
   "metadata": {},
   "outputs": [
    {
     "data": {
      "image/png": "[encoded data removed]",
      "text/plain": [
       "<Figure size 1080x720 with 1 Axes>"
      ]
     },
     "metadata": {
      "needs_background": "light"
     },
     "output_type": "display_data"
    }
   ],
   "source": [
    "fig,ax = plt.subplots(figsize=(15,10)) \n",
    "plt.sca(ax)\n",
    "fdist_hiprice.plot(20, cumulative=False)\n",
    "fig.savefig('disthiprice.png')"
   ]
  },
  {
   "cell_type": "code",
   "execution_count": 53,
   "metadata": {},
   "outputs": [
    {
     "data": {
      "image/png": "[encoded data removed]",
      "text/plain": [
       "<Figure size 1080x720 with 1 Axes>"
      ]
     },
     "metadata": {
      "needs_background": "light"
     },
     "output_type": "display_data"
    }
   ],
   "source": [
    "fig,ax = plt.subplots(figsize=(15,10)) \n",
    "plt.sca(ax)\n",
    "fdist_loprice.plot(20,cumulative=False)\n",
    "fig.savefig('distloprice.png')"
   ]
  },
  {
   "cell_type": "code",
   "execution_count": 42,
   "metadata": {},
   "outputs": [
    {
     "name": "stdout",
     "output_type": "stream",
     "text": [
      "FreqDist({'necklace': 8747, 'gold': 4927, 'silver': 4922, 'please': 4364, 'gift': 4330, 'jewelry': 4287, 'chain': 3988, 'plated': 2771, 'us': 2428, 'charm': 2405, 'pendant': 2298, 'length': 2267, 'order': 2143, 'e': 2086, 'note': 1916, 'sterling': 1858, 'shipping': 1842, 'items': 1784, 'initial': 1778, 'size': 1766, ...})\n"
     ]
    }
   ],
   "source": [
    "fdist_loprice = FreqDist(word for word in ' '.join(usdf[usdf['price']<25]['desc'].values).split() if not word.isnumeric())\n",
    "fdist_loprice.pprint(maxlen=20)"
   ]
  },
  {
   "cell_type": "code",
   "execution_count": null,
   "metadata": {},
   "outputs": [],
   "source": [
    "tfidf.shape"
   ]
  },
  {
   "cell_type": "code",
   "execution_count": null,
   "metadata": {},
   "outputs": [],
   "source": [
    "from sklearn.ensemble import RandomForestRegressor\n",
    "from sklearn.model_selection import train_test_split"
   ]
  },
  {
   "cell_type": "code",
   "execution_count": null,
   "metadata": {},
   "outputs": [],
   "source": [
    "y = usdf['price'].values"
   ]
  },
  {
   "cell_type": "code",
   "execution_count": null,
   "metadata": {},
   "outputs": [],
   "source": [
    "y.shape"
   ]
  },
  {
   "cell_type": "code",
   "execution_count": null,
   "metadata": {},
   "outputs": [],
   "source": [
    "X_train, X_test, y_train, y_test = train_test_split(\n",
    "    X, y, test_size=0.2, random_state=42)"
   ]
  },
  {
   "cell_type": "code",
   "execution_count": null,
   "metadata": {},
   "outputs": [],
   "source": [
    "regr_rf = RandomForestRegressor(n_estimators=20, max_depth=None,min_samples_split=2, random_state=2, oob_score=True)\n",
    "regr_rf.fit(X_train, y_train)"
   ]
  },
  {
   "cell_type": "code",
   "execution_count": null,
   "metadata": {},
   "outputs": [],
   "source": [
    "y_rf = regr_rf.predict(X_test)"
   ]
  },
  {
   "cell_type": "code",
   "execution_count": null,
   "metadata": {},
   "outputs": [],
   "source": [
    "X!=tfidf"
   ]
  },
  {
   "cell_type": "code",
   "execution_count": null,
   "metadata": {},
   "outputs": [],
   "source": [
    "regr_rf.score(X_test,y_test)"
   ]
  },
  {
   "cell_type": "code",
   "execution_count": null,
   "metadata": {},
   "outputs": [],
   "source": [
    "regr_rf.oob_score_"
   ]
  },
  {
   "cell_type": "code",
   "execution_count": null,
   "metadata": {},
   "outputs": [],
   "source": [
    "np.sqrt(np.mean(np.square(y_rf-y_test)))"
   ]
  },
  {
   "cell_type": "code",
   "execution_count": null,
   "metadata": {},
   "outputs": [],
   "source": [
    "closeby = np.zeros(len(usdf))\n",
    "eps = 1.0\n",
    "for index, row in usdf.iterrows():\n",
    "    if(index<len(usdf)-2):\n",
    "        i2 = index+1\n",
    "        row2=usdf.iloc[i2]\n",
    "        while(row['clusters']==row2['clusters']):\n",
    "            #print(row[['price','title']], row2[['price','title']])\n",
    "            if (np.abs(float(row['price'])-float(row2['price']))<eps):\n",
    "                closeby[i2]=1\n",
    "            if(i2<len(usdf)-1): \n",
    "                i2+=1\n",
    "                row2=usdf.iloc[i2]\n",
    "        "
   ]
  },
  {
   "cell_type": "code",
   "execution_count": null,
   "metadata": {},
   "outputs": [],
   "source": [
    "np.sum(closeby)"
   ]
  },
  {
   "cell_type": "code",
   "execution_count": null,
   "metadata": {},
   "outputs": [],
   "source": [
    "len(C)"
   ]
  },
  {
   "cell_type": "code",
   "execution_count": null,
   "metadata": {},
   "outputs": [],
   "source": [
    "len(np.unique(C))"
   ]
  },
  {
   "cell_type": "code",
   "execution_count": null,
   "metadata": {},
   "outputs": [],
   "source": [
    "len(C)-len(np.unique(C))"
   ]
  },
  {
   "cell_type": "code",
   "execution_count": null,
   "metadata": {},
   "outputs": [],
   "source": [
    "usdf.reset_index(drop=True)"
   ]
  },
  {
   "cell_type": "code",
   "execution_count": null,
   "metadata": {},
   "outputs": [],
   "source": [
    "usdf.groupby('clusters')['price'].std()"
   ]
  },
  {
   "cell_type": "markdown",
   "metadata": {},
   "source": [
    "### Lets have 20 clusters"
   ]
  },
  {
   "cell_type": "code",
   "execution_count": null,
   "metadata": {},
   "outputs": [],
   "source": [
    "#Clustering\n",
    "maxclust = 20\n",
    "C20 = hierarchy.fcluster(Z, maxclust, criterion=\"maxclust\")"
   ]
  },
  {
   "cell_type": "code",
   "execution_count": null,
   "metadata": {},
   "outputs": [],
   "source": [
    "np.unique(C20)"
   ]
  },
  {
   "cell_type": "code",
   "execution_count": null,
   "metadata": {},
   "outputs": [],
   "source": [
    "usdf['c20'] = C20\n",
    "usdf.head()"
   ]
  },
  {
   "cell_type": "code",
   "execution_count": null,
   "metadata": {},
   "outputs": [],
   "source": [
    "usdf['overview'].apply(lambda x: print(x))"
   ]
  },
  {
   "cell_type": "code",
   "execution_count": null,
   "metadata": {},
   "outputs": [],
   "source": [
    "'vintage' in ' '.join(['\\n    Vintage item\\n', '\\n    Favorited by: ', '\\n', '\\n        Gift wrapping and message available\\n        ', '\\n    ']).lower()"
   ]
  },
  {
   "cell_type": "code",
   "execution_count": null,
   "metadata": {},
   "outputs": [],
   "source": [
    "import re\n",
    "re.findall(r'\\d{4}',' '.join(['\\n    Vintage item \\n', '\\n    Favorited by: ', '\\n', '\\n        Gift wrapping and message available\\n        ', '\\n    ']))"
   ]
  },
  {
   "cell_type": "code",
   "execution_count": null,
   "metadata": {},
   "outputs": [],
   "source": [
    "usdf['vintage'] = usdf['overview'].apply(lambda x: int('vintage' in ' '.join(x).lower()))"
   ]
  },
  {
   "cell_type": "code",
   "execution_count": null,
   "metadata": {},
   "outputs": [],
   "source": [
    "usdf['year'] = usdf['overview'].apply(lambda x: re.findall(r'\\d{4}',' '.join(x).lower())[0] if(len(re.findall(r'\\d{4}',' '.join(x).lower()))>0) else np.nan)"
   ]
  },
  {
   "cell_type": "code",
   "execution_count": null,
   "metadata": {},
   "outputs": [],
   "source": [
    "usdf['handmade'] = usdf['overview'].apply(lambda x: int('handmade' in ' '.join(x).lower() or 'hand-made' in ' '.join(x).lower()))"
   ]
  },
  {
   "cell_type": "code",
   "execution_count": null,
   "metadata": {},
   "outputs": [],
   "source": [
    "def extract_materials(ov):\n",
    "    l = [re.sub(r\"[^a-zA-Z\\d\\s]\", '', x).lower().replace('materials','').replace('material','').strip() for x in ov if 'materials' in x.lower() or 'material' in x.lower()] \n",
    "    return l[0] if len(l)>0 else np.nan\n",
    "    \n",
    "usdf['materials'] = usdf['overview'].apply(extract_materials)"
   ]
  },
  {
   "cell_type": "code",
   "execution_count": null,
   "metadata": {},
   "outputs": [],
   "source": [
    "usdf.columns"
   ]
  },
  {
   "cell_type": "code",
   "execution_count": null,
   "metadata": {},
   "outputs": [],
   "source": [
    "usdf.head()"
   ]
  },
  {
   "cell_type": "code",
   "execution_count": null,
   "metadata": {},
   "outputs": [],
   "source": []
  }
 ],
 "metadata": {
  "kernelspec": {
   "display_name": "Python 3",
   "language": "python",
   "name": "python3"
  },
  "language_info": {
   "codemirror_mode": {
    "name": "ipython",
    "version": 3
   },
   "file_extension": ".py",
   "mimetype": "text/x-python",
   "name": "python",
   "nbconvert_exporter": "python",
   "pygments_lexer": "ipython3",
   "version": "3.6.8"
  }
 },
 "nbformat": 4,
 "nbformat_minor": 2
}
