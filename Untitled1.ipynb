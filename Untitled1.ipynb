{
 "cells": [
  {
   "cell_type": "code",
   "execution_count": 1,
   "metadata": {},
   "outputs": [],
   "source": [
    "from gensim import corpora, models, similarities\n",
    "from gensim.models.doc2vec import Doc2Vec\n",
    "from sklearn.metrics.pairwise import cosine_similarity\n",
    "import re\n",
    "import numpy as np\n",
    "from nltk.corpus import stopwords\n",
    "import psycopg2\n",
    "import pandas as pd\n",
    "import os\n",
    "import dill\n",
    "import tensorflow as tf\n",
    "from tensorflow.keras.applications import mobilenet_v2\n",
    "from tensorflow.keras.preprocessing import image\n",
    "from tensorflow.keras.applications.mobilenet_v2 import preprocess_input"
   ]
  },
  {
   "cell_type": "code",
   "execution_count": 2,
   "metadata": {},
   "outputs": [],
   "source": [
    "def desc_standardize(desc):\n",
    "    text = desc.strip()\n",
    "    linkregex=r\"((([A-Za-z]{3,9}:(?:\\/\\/)?)(?:[-;:&=\\+\\$,\\w]+@)?[A-Za-z0-9.-]+|(?:www.|[-;:&=\\+\\$,\\w]+@)[A-Za-z0-9.-]+)((?:\\/[\\+~%\\/.\\w\\-_]*)?\\??(?:[-\\+=&;%@.\\w_]*)#?(?:[\\w]*))?)\"\n",
    "    text = re.sub(linkregex,'',text)\n",
    "    text = re.sub(r\"[^a-zA-Z\\d\\s]\", '', text)\n",
    "    text = text.lower()\n",
    "    s=set(stopwords.words('english'))\n",
    "    text = ' '.join([x for x in text.split() if not x in s])\n",
    "    text = ' '.join([x for x in text.split() if not bool(re.search(r'\\d', x))])\n",
    "    return text"
   ]
  },
  {
   "cell_type": "code",
   "execution_count": 3,
   "metadata": {},
   "outputs": [],
   "source": [
    "def getimgfeatures(imgname):\n",
    "    imgmodel = mobilenet_v2.MobileNetV2(input_shape=(224,224,3),weights='imagenet',include_top=False,pooling='avg')\n",
    "    image_string = tf.read_file(imgname)\n",
    "    image_decoded = tf.image.decode_jpeg(image_string,channels=3)\n",
    "    image_resized = tf.image.resize_images(image_decoded, [224, 224])\n",
    "    img = tf.expand_dims(image_resized, axis=0)\n",
    "    img = tf.Session().run(img)\n",
    "    image = preprocess_input(img)\n",
    "    img_feat = imgmodel.predict(image)\n",
    "    return img_feat"
   ]
  },
  {
   "cell_type": "code",
   "execution_count": 6,
   "metadata": {},
   "outputs": [],
   "source": [
    "userdesc = 'gold necklace on a chain'\n",
    "img='/home/eli/code/insight/etsy/etsyitems/images/full/0aaeab5e8c5655813cc79f5b29ca29b8cabdb3e7.jpg'\n",
    "TEMP_FOLDER = '/home/eli/code/insight/etsy/etsyitems/nlp3'\n",
    "wd = '/home/eli/code/insight/etsy/etsyitems/'"
   ]
  },
  {
   "cell_type": "code",
   "execution_count": 7,
   "metadata": {},
   "outputs": [],
   "source": [
    "d2vmodel = Doc2Vec.load(os.path.join(TEMP_FOLDER, 'necklaces.d2v'))\n",
    "text = desc_standardize(userdesc)\n",
    "desc_vec=d2vmodel.infer_vector(text, steps=40, alpha=0.025)\n",
    "X_tr_d2v = np.load('d2v-features.npy')\n",
    "d2v_cossim = cosine_similarity(X_tr_d2v,desc_vec.reshape(1, -1))\n",
    "X_img = np.load('img_features.npy')\n",
    "img_feat = getimgfeatures(img)\n",
    "img_cossim = cosine_similarity(X_img,img_feat.reshape(1, -1))\n",
    "eps = 1e-15"
   ]
  },
  {
   "cell_type": "code",
   "execution_count": 8,
   "metadata": {},
   "outputs": [
    {
     "data": {
      "text/plain": [
       "0.4166495769430252"
      ]
     },
     "execution_count": 8,
     "metadata": {},
     "output_type": "execute_result"
    }
   ],
   "source": [
    "img_cossim.mean()"
   ]
  },
  {
   "cell_type": "code",
   "execution_count": 9,
   "metadata": {},
   "outputs": [
    {
     "name": "stderr",
     "output_type": "stream",
     "text": [
      "/home/eli/anaconda3/envs/etsyapp/lib/python3.6/site-packages/sklearn/base.py:251: UserWarning: Trying to unpickle estimator DecisionTreeRegressor from version 0.19.1 when using version 0.20.2. This might lead to breaking code or invalid results. Use at your own risk.\n",
      "  UserWarning)\n",
      "/home/eli/anaconda3/envs/etsyapp/lib/python3.6/site-packages/sklearn/base.py:251: UserWarning: Trying to unpickle estimator RandomForestRegressor from version 0.19.1 when using version 0.20.2. This might lead to breaking code or invalid results. Use at your own risk.\n",
      "  UserWarning)\n"
     ]
    }
   ],
   "source": [
    "df = pd.read_json('cleandf.json')\n",
    "np.putmask(d2v_cossim, d2v_cossim>1-eps,-1.)\n",
    "np.putmask(img_cossim, img_cossim>1-eps,-1.)\n",
    "fullindd2v = np.argpartition(d2v_cossim, -5,axis=0)[-5:,0]\n",
    "topd2vsim = d2v_cossim[fullindd2v].T[0]\n",
    "prices_d2vsim=df['price'].values[fullindd2v]\n",
    "fullindimg = np.argpartition(img_cossim, -5,axis=0)[-5:,0]\n",
    "topimgsim = img_cossim[fullindimg].T[0]\n",
    "prices_imgsim=df['price'].values[fullindimg]\n",
    "X = np.concatenate([topd2vsim.T,prices_d2vsim.T,topimgsim.T,prices_imgsim.T]).reshape(1,-1)\n",
    "rfmodel =  dill.load(open(wd + \"rfimgd2vmodel.obj\",\"rb\"))"
   ]
  },
  {
   "cell_type": "code",
   "execution_count": 12,
   "metadata": {},
   "outputs": [
    {
     "data": {
      "text/plain": [
       "'0.20.2'"
      ]
     },
     "execution_count": 12,
     "metadata": {},
     "output_type": "execute_result"
    }
   ],
   "source": [
    "import sklearn\n",
    "sklearn.__version__"
   ]
  },
  {
   "cell_type": "code",
   "execution_count": 27,
   "metadata": {},
   "outputs": [
    {
     "data": {
      "text/plain": [
       "array([120.79947118])"
      ]
     },
     "execution_count": 27,
     "metadata": {},
     "output_type": "execute_result"
    }
   ],
   "source": [
    "rfmodel.predict(X)"
   ]
  },
  {
   "cell_type": "code",
   "execution_count": 35,
   "metadata": {},
   "outputs": [
    {
     "data": {
      "text/plain": [
       "array([False, False,  True, False, False])"
      ]
     },
     "execution_count": 35,
     "metadata": {},
     "output_type": "execute_result"
    }
   ],
   "source": [
    "prices_d2vsim>rfmodel.predict(X)"
   ]
  },
  {
   "cell_type": "code",
   "execution_count": 28,
   "metadata": {},
   "outputs": [
    {
     "data": {
      "text/plain": [
       "64.5"
      ]
     },
     "execution_count": 28,
     "metadata": {},
     "output_type": "execute_result"
    }
   ],
   "source": [
    "(prices_d2vsim.max()-prices_d2vsim.min())/2"
   ]
  },
  {
   "cell_type": "code",
   "execution_count": 29,
   "metadata": {},
   "outputs": [
    {
     "data": {
      "text/plain": [
       "array([38.  , 17.97, 17.97, 17.98, 17.97])"
      ]
     },
     "execution_count": 29,
     "metadata": {},
     "output_type": "execute_result"
    }
   ],
   "source": [
    "prices_imgsim"
   ]
  },
  {
   "cell_type": "code",
   "execution_count": 30,
   "metadata": {},
   "outputs": [
    {
     "data": {
      "text/plain": [
       "10.015"
      ]
     },
     "execution_count": 30,
     "metadata": {},
     "output_type": "execute_result"
    }
   ],
   "source": [
    "np.min([(prices_imgsim.max()-prices_imgsim.min())/2,(prices_d2vsim.max()-prices_d2vsim.min())/2])"
   ]
  },
  {
   "cell_type": "code",
   "execution_count": 31,
   "metadata": {},
   "outputs": [],
   "source": [
    "flatten = lambda l: [item for sublist in l for item in sublist]"
   ]
  },
  {
   "cell_type": "code",
   "execution_count": 36,
   "metadata": {},
   "outputs": [],
   "source": [
    "import nltk\n",
    "fdist = nltk.FreqDist(flatten([txt.split() for txt in df['adesc'].values[fullindd2v[prices_d2vsim>rfmodel.predict(X)]]]))"
   ]
  },
  {
   "cell_type": "code",
   "execution_count": 104,
   "metadata": {},
   "outputs": [
    {
     "data": {
      "text/plain": [
       "'3.00'"
      ]
     },
     "execution_count": 104,
     "metadata": {},
     "output_type": "execute_result"
    }
   ],
   "source": [
    "res = 5.0\n",
    "rng = 4.0\n",
    "\"%.2f\" % (res-rng/2.0)"
   ]
  },
  {
   "cell_type": "code",
   "execution_count": 38,
   "metadata": {},
   "outputs": [
    {
     "name": "stdout",
     "output_type": "stream",
     "text": [
      "wrapped;2\n",
      "beautiful;2\n",
      "watermelon;2\n",
      "tourmaline;2\n"
     ]
    }
   ],
   "source": [
    "for word, frequency in fdist.most_common(5):\n",
    "    if not word in userdesc:\n",
    "        print(u'{};{}'.format(word, frequency))"
   ]
  },
  {
   "cell_type": "code",
   "execution_count": 39,
   "metadata": {},
   "outputs": [],
   "source": [
    "imgsim = np.load('img_cossim.npy')"
   ]
  },
  {
   "cell_type": "code",
   "execution_count": 61,
   "metadata": {},
   "outputs": [],
   "source": [
    "modimgsim = imgsim[imgsim.any(axis=1)][:,imgsim.any(axis=0)]"
   ]
  },
  {
   "cell_type": "code",
   "execution_count": 97,
   "metadata": {},
   "outputs": [
    {
     "data": {
      "text/plain": [
       "0.08556144698489522"
      ]
     },
     "execution_count": 97,
     "metadata": {},
     "output_type": "execute_result"
    }
   ],
   "source": [
    "modimgsim.std()"
   ]
  },
  {
   "cell_type": "code",
   "execution_count": 98,
   "metadata": {},
   "outputs": [
    {
     "data": {
      "text/plain": [
       "0.306601088262517"
      ]
     },
     "execution_count": 98,
     "metadata": {},
     "output_type": "execute_result"
    }
   ],
   "source": [
    "imgsim.mean()-imgsim.std()"
   ]
  },
  {
   "cell_type": "code",
   "execution_count": 88,
   "metadata": {},
   "outputs": [
    {
     "data": {
      "text/plain": [
       "0.0954301662580221"
      ]
     },
     "execution_count": 88,
     "metadata": {},
     "output_type": "execute_result"
    }
   ],
   "source": [
    "imgsim.std()"
   ]
  },
  {
   "cell_type": "code",
   "execution_count": 50,
   "metadata": {},
   "outputs": [
    {
     "data": {
      "text/plain": [
       "(6975,)"
      ]
     },
     "execution_count": 50,
     "metadata": {},
     "output_type": "execute_result"
    }
   ],
   "source": [
    "imgsim.mean(axis=1).shape"
   ]
  },
  {
   "cell_type": "code",
   "execution_count": 47,
   "metadata": {},
   "outputs": [
    {
     "data": {
      "text/plain": [
       "(1, 20)"
      ]
     },
     "execution_count": 47,
     "metadata": {},
     "output_type": "execute_result"
    }
   ],
   "source": [
    "np.concatenate([topd2vsim.T,prices_d2vsim.T,topimgsim.T,prices_imgsim.T]).reshape(1,-1).shape"
   ]
  },
  {
   "cell_type": "code",
   "execution_count": 13,
   "metadata": {},
   "outputs": [
    {
     "data": {
      "text/plain": [
       "array([[-0.05196977, -0.03922364,  0.07207116, ..., -0.01276831,\n",
       "         0.06640133,  0.00231631]], dtype=float32)"
      ]
     },
     "execution_count": 13,
     "metadata": {},
     "output_type": "execute_result"
    }
   ],
   "source": [
    "d2v_cossim.T"
   ]
  },
  {
   "cell_type": "code",
   "execution_count": 20,
   "metadata": {},
   "outputs": [
    {
     "data": {
      "text/plain": [
       "array([3478, 2330, 4887,  616, 5319])"
      ]
     },
     "execution_count": 20,
     "metadata": {},
     "output_type": "execute_result"
    }
   ],
   "source": [
    "np.argpartition(d2v_cossim.T, -5,axis=1)[0,-5:]"
   ]
  },
  {
   "cell_type": "code",
   "execution_count": 22,
   "metadata": {},
   "outputs": [
    {
     "data": {
      "text/plain": [
       "array([3478, 2330, 4887,  616, 5319])"
      ]
     },
     "execution_count": 22,
     "metadata": {},
     "output_type": "execute_result"
    }
   ],
   "source": [
    "np.argpartition(d2v_cossim, -5,axis=0)[-5:,0]"
   ]
  },
  {
   "cell_type": "code",
   "execution_count": 30,
   "metadata": {},
   "outputs": [],
   "source": [
    "topd2vsim = d2v_cossim[fullindd2v].T[0]"
   ]
  },
  {
   "cell_type": "code",
   "execution_count": 31,
   "metadata": {},
   "outputs": [
    {
     "data": {
      "text/plain": [
       "array([0.34305918, 0.36692557, 0.42390436, 0.43762705, 0.43762705],\n",
       "      dtype=float32)"
      ]
     },
     "execution_count": 31,
     "metadata": {},
     "output_type": "execute_result"
    }
   ],
   "source": [
    "topd2vsim"
   ]
  },
  {
   "cell_type": "code",
   "execution_count": 25,
   "metadata": {},
   "outputs": [],
   "source": [
    "prices_d2vsim=df['price'].values[fullindd2v]"
   ]
  },
  {
   "cell_type": "code",
   "execution_count": 27,
   "metadata": {},
   "outputs": [
    {
     "data": {
      "text/plain": [
       "array([ 96.  ,  45.99,  40.99,  55.  , 100.  ])"
      ]
     },
     "execution_count": 27,
     "metadata": {},
     "output_type": "execute_result"
    }
   ],
   "source": [
    "prices_d2vsim"
   ]
  },
  {
   "cell_type": "code",
   "execution_count": null,
   "metadata": {},
   "outputs": [],
   "source": []
  }
 ],
 "metadata": {
  "kernelspec": {
   "display_name": "Python 3",
   "language": "python",
   "name": "python3"
  },
  "language_info": {
   "codemirror_mode": {
    "name": "ipython",
    "version": 3
   },
   "file_extension": ".py",
   "mimetype": "text/x-python",
   "name": "python",
   "nbconvert_exporter": "python",
   "pygments_lexer": "ipython3",
   "version": "3.6.8"
  }
 },
 "nbformat": 4,
 "nbformat_minor": 2
}
